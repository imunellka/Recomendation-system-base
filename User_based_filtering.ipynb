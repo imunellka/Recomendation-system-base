{
  "cells": [
    {
      "cell_type": "code",
      "execution_count": null,
      "metadata": {
        "id": "gY2K92dmVuYn"
      },
      "outputs": [],
      "source": [
        "from sklearn.neighbors import NearestNeighbors\n",
        "from sklearn.model_selection import train_test_split as sklearn_train_test_split\n",
        "from sklearn.preprocessing import LabelEncoder\n",
        "from scipy.sparse import csr_matrix\n",
        "\n",
        "import pandas as pd\n",
        "import numpy as np\n",
        "import zipfile"
      ]
    },
    {
      "cell_type": "code",
      "execution_count": null,
      "metadata": {
        "id": "88w8zn1dVuYq"
      },
      "outputs": [],
      "source": [
        "import warnings\n",
        "warnings.filterwarnings('ignore')"
      ]
    },
    {
      "cell_type": "markdown",
      "metadata": {
        "id": "Ml5-Gcz6VuYr"
      },
      "source": [
        "### Загружаем наборы данных"
      ]
    },
    {
      "cell_type": "code",
      "execution_count": null,
      "metadata": {
        "id": "JeAEMxdwVuYs"
      },
      "outputs": [],
      "source": [
        "ratings = pd.read_csv('ratings.csv')\n",
        "movies = pd.read_csv('movies.csv')"
      ]
    },
    {
      "cell_type": "code",
      "execution_count": null,
      "metadata": {
        "id": "VCfCx9MEVuYt"
      },
      "outputs": [],
      "source": [
        "ratings.head(5)"
      ]
    },
    {
      "cell_type": "code",
      "execution_count": null,
      "metadata": {
        "id": "Pka8OR9nVuYt"
      },
      "outputs": [],
      "source": [
        "movies.head(5)"
      ]
    },
    {
      "cell_type": "markdown",
      "metadata": {
        "id": "SAE7c8WwVuYt"
      },
      "source": [
        "### Создаём матрицу"
      ]
    },
    {
      "cell_type": "code",
      "execution_count": null,
      "metadata": {
        "id": "VqpUYNINVuYt"
      },
      "outputs": [],
      "source": [
        "def ratings_matrix(ratings):\n",
        "    # создайте csr матрицу\n",
        "\n",
        "R = ratings_matrix(ratings)"
      ]
    },
    {
      "cell_type": "code",
      "execution_count": null,
      "metadata": {
        "id": "9E6OD60iVuYu"
      },
      "outputs": [],
      "source": [
        "R"
      ]
    },
    {
      "cell_type": "code",
      "execution_count": null,
      "metadata": {
        "id": "VBw-qOF4VuYu"
      },
      "outputs": [],
      "source": [
        "R.indices"
      ]
    },
    {
      "cell_type": "code",
      "execution_count": null,
      "metadata": {
        "id": "4Fh8sod7VuYu"
      },
      "outputs": [],
      "source": [
        "R.data"
      ]
    },
    {
      "cell_type": "markdown",
      "metadata": {
        "id": "hGCbDYdMVuYv"
      },
      "source": [
        "# Пример моделей коллаборативной фильтрации (CF)"
      ]
    },
    {
      "cell_type": "markdown",
      "metadata": {
        "id": "wreszlFTVuYv"
      },
      "source": [
        "Можно выделить основные варианты применения:\n",
        "\n",
        "1. Поиск сходства между предметами или пользователями\n",
        "2. Предикт рейтинга\n",
        "3. Формирование Top-N\n"
      ]
    },
    {
      "cell_type": "markdown",
      "metadata": {
        "id": "OFXATvB_VuYw"
      },
      "source": [
        "# 1. User-based"
      ]
    },
    {
      "cell_type": "markdown",
      "metadata": {
        "id": "C28MK_AgVuYx"
      },
      "source": [
        "### 1. Определим из всей выборки пользователе, которых будем сравнивать с активным"
      ]
    },
    {
      "cell_type": "code",
      "execution_count": null,
      "metadata": {
        "id": "TnlFbnH9VuYx"
      },
      "outputs": [],
      "source": [
        "def create_model(rating_matrix, metric):\n",
        "    \"\"\"\n",
        "    - создание модели с базовыми параметрами\n",
        "    \"\"\"\n",
        "    model = NearestNeighbors(metric=metric, n_neighbors=21, algorithm='brute')\n",
        "\n",
        "    model.fit(rating_matrix)\n",
        "    return model"
      ]
    },
    {
      "cell_type": "code",
      "execution_count": null,
      "metadata": {
        "id": "8nHhzuZsVuYy"
      },
      "outputs": [],
      "source": [
        "def nearest_neighbors(rating_matrix, model):\n",
        "    \"\"\"\n",
        "    :param rating_matrix : матрица рейтингов (nb_users, nb_items)\n",
        "    :param model : модель knn\n",
        "    \"\"\"\n",
        "    similarities, neighbors = model.kneighbors(rating_matrix)\n",
        "    return similarities[:, 1:], neighbors[:, 1:]"
      ]
    },
    {
      "cell_type": "code",
      "execution_count": null,
      "metadata": {
        "id": "TirH_uEAVuYy"
      },
      "outputs": [],
      "source": [
        "# метрику схожести используем Косинусную\n",
        "model = create_model(rating_matrix=R, metric='cosine')\n",
        "similarities, neighbors = nearest_neighbors(R, model)"
      ]
    },
    {
      "cell_type": "markdown",
      "metadata": {
        "id": "LUsmZtPRVuYy"
      },
      "source": [
        "### 2. Поиск элементов пользователя"
      ]
    },
    {
      "cell_type": "code",
      "execution_count": null,
      "metadata": {
        "id": "09kL8jpiVuYy"
      },
      "outputs": [],
      "source": [
        "def find_candidate_items(userid):\n",
        "    \"\"\"\n",
        "    Поиск элементов для переданного пользователя\n",
        "\n",
        "    :param userid : пользователь id\n",
        "    :param neighbors : схожесть между пользователями\n",
        "    :return candidates : топ 10 элементов для пользователя\n",
        "    \"\"\"\n",
        "    user_neighbors = neighbors[userid]\n",
        "\n",
        "    activities = ratings.loc[ratings['userId'].isin(user_neighbors)]\n",
        "\n",
        "\n",
        "    # сортируем элементы по частоте\n",
        "    frequency = activities.groupby('movieId')['rating'].count().reset_index(name='count').sort_values(['count'],ascending=False)\n",
        "    Gu_items = frequency['movieId']\n",
        "    active_items = ratings.loc[ratings['userId'] == userid]['movieId'].to_list()\n",
        "    candidates = np.setdiff1d(Gu_items, active_items, assume_unique=True)[:10]\n",
        "\n",
        "    return candidates"
      ]
    },
    {
      "cell_type": "markdown",
      "metadata": {
        "id": "tdhrdOd8VuYz"
      },
      "source": [
        "### 3. Предикт рейтинга"
      ]
    },
    {
      "cell_type": "code",
      "execution_count": null,
      "metadata": {
        "id": "KEBApaAGVuYz"
      },
      "outputs": [],
      "source": [
        "# средний рейтинг по всем\n",
        "mean = ratings.groupby(by='userId', as_index=False)['rating'].mean()\n",
        "mean_ratings = pd.merge(ratings, mean, suffixes=('','_mean'), on='userId')\n",
        "\n",
        "# нормализация рейтинга\n",
        "mean_ratings['norm_rating'] = mean_ratings['rating'] - mean_ratings['rating_mean']\n",
        "\n",
        "mean = mean.to_numpy()[:, 1]"
      ]
    },
    {
      "cell_type": "code",
      "execution_count": null,
      "metadata": {
        "id": "Bhr6zR1LVuYz"
      },
      "outputs": [],
      "source": [
        "np_ratings = mean_ratings.to_numpy()"
      ]
    },
    {
      "cell_type": "markdown",
      "metadata": {
        "id": "k9htNvd1VuYz"
      },
      "source": [
        "```predict``` рейтинга между пользователями по функции:\n",
        "\n",
        "\\begin{equation}\n",
        " \\hat{r}_{u,i}=\\bar{r}_u + \\frac{\\sum_{v\\in G_u}(r_{v,i}-\\bar{r}_v)\\cdot w_{u,v}}{\\sum_{v\\in G_u}|w_{u,v}|}.\n",
        "\\end{equation}"
      ]
    },
    {
      "cell_type": "code",
      "execution_count": null,
      "metadata": {
        "id": "0tBF3qpFVuY0"
      },
      "outputs": [],
      "source": [
        "def predict(userid, itemid):\n",
        "    \"\"\"\n",
        "    предикт для пользователя userid рейтинга на элемент itemid.\n",
        "\n",
        "    :param\n",
        "        - userid : пользователь для предикта\n",
        "        - itemid : элемент для предикта\n",
        "\n",
        "    :return\n",
        "        - r_hat : предикт\n",
        "    \"\"\"\n",
        "    user_similarities = similarities[userid]\n",
        "    user_neighbors = neighbors[userid]\n",
        "\n",
        "    # средний рейтинг\n",
        "    user_mean = mean[userid]\n",
        "\n",
        "    # поиск пользователей, которые имеют рейтинг по элементу 'itemid'\n",
        "    iratings = np_ratings[np_ratings[:, 1].astype('int') == itemid]\n",
        "\n",
        "    # поиск похожих пользователей\n",
        "    simus = iratings[np.isin(iratings[:, 0], user_neighbors)]\n",
        "\n",
        "    # отбор похожих пользователей, которые имеют рейтинг по выбранному элементу\n",
        "    normalized_ratings = simus[:,4]\n",
        "    indexes = [np.where(user_neighbors == uid)[0][0] for uid in simus[:, 0].astype('int')]\n",
        "    sims = user_similarities[indexes]\n",
        "\n",
        "    num = # подготовить произведение normalized_ratings и sims  np.dot(normalized_ratings, sims)\n",
        "    den = # сумма всех sims, не учитывая знак np.sum(np.abs(sims))\n",
        "\n",
        "    if num == 0 or den == 0:\n",
        "        return user_mean\n",
        "\n",
        "    # реализуем формулу предикста\n",
        "\n",
        "    return r_hat"
      ]
    },
    {
      "cell_type": "code",
      "execution_count": null,
      "metadata": {
        "id": "iwLeRtRUVuY0"
      },
      "outputs": [],
      "source": [
        "def user2userPredictions(userid, pred_path):\n",
        "    \"\"\"\n",
        "    Сделаем предикт для каждого пользователя и сохраним в файл prediction.csv\n",
        "\n",
        "    :param\n",
        "        - userid : пользователя id\n",
        "        - pred_path : куда сохраняем\n",
        "    \"\"\"\n",
        "\n",
        "    try:\n",
        "        # поиск пользователей\n",
        "        candidates = find_candidate_items(userid)\n",
        "\n",
        "        # цикл по всем выбраным пользователям для предикта\n",
        "        for itemid in candidates:\n",
        "\n",
        "            # предикт для пользователя, по элементам\n",
        "            r_hat = predict(userid, itemid)\n",
        "\n",
        "            # сохраним\n",
        "            with open(pred_path, 'a+') as file:\n",
        "                line = '{},{},{}\\n'.format(userid, itemid, r_hat)\n",
        "                file.write(line)\n",
        "    except IndexError:\n",
        "        pass"
      ]
    },
    {
      "cell_type": "code",
      "execution_count": null,
      "metadata": {
        "id": "HHhp8-5tVuY0"
      },
      "outputs": [],
      "source": [
        "import sys\n",
        "import os\n",
        "\n",
        "def user2userCF():\n",
        "    \"\"\"\n",
        "    Предикт для всех пользователей, даже с 1 рейтингом\n",
        "    \"\"\"\n",
        "    # список всех пользователей\n",
        "    users = ratings['userId'].unique()\n",
        "\n",
        "    def _progress(count):\n",
        "        sys.stdout.write('\\rRating predictions. Progress status : %.1f%%' % (float(count/len(users))*100.0))\n",
        "        sys.stdout.flush()\n",
        "\n",
        "    saved_predictions = 'predictions.csv'\n",
        "    if os.path.exists(saved_predictions):\n",
        "        os.remove(saved_predictions)\n",
        "\n",
        "    for count, userid in enumerate(users):\n",
        "        # делаем предикт\n",
        "        user2userPredictions(userid, saved_predictions)\n",
        "        _progress(count)"
      ]
    },
    {
      "cell_type": "code",
      "execution_count": null,
      "metadata": {
        "id": "p0863UX8VuY1"
      },
      "outputs": [],
      "source": [
        "user2userCF()"
      ]
    },
    {
      "cell_type": "markdown",
      "metadata": {
        "id": "OU9QfVH-VuY2"
      },
      "source": [
        "### 4. Top-N рекомендаций\n",
        "\n",
        "Функция ```user2userRecommendation()``` делает отбор необходимых рекомендаций для пользователя"
      ]
    },
    {
      "cell_type": "code",
      "execution_count": null,
      "metadata": {
        "id": "8EjRmFsWVuY2"
      },
      "outputs": [],
      "source": [
        "def user2userRecommendation(userid):\n",
        "    \"\"\"\n",
        "    Делаем предикт для пользователя\n",
        "    \"\"\"\n",
        "\n",
        "    saved_predictions = 'predictions.csv'\n",
        "\n",
        "    predictions = pd.read_csv(saved_predictions, sep=',', names=['userId', 'movieId', 'predicted_rating'])\n",
        "    predictions = predictions[predictions.userId==userid]\n",
        "    List = predictions.sort_values(by=['predicted_rating'], ascending=False)\n",
        "\n",
        "    List = pd.merge(List, movies, on='movieId', how='inner')\n",
        "\n",
        "    return List"
      ]
    },
    {
      "cell_type": "code",
      "execution_count": null,
      "metadata": {
        "id": "6o2f5EPEVuY3"
      },
      "outputs": [],
      "source": [
        "user2userRecommendation(4)"
      ]
    }
  ],
  "metadata": {
    "kernelspec": {
      "display_name": "Python 3 (ipykernel)",
      "language": "python",
      "name": "python3"
    },
    "language_info": {
      "codemirror_mode": {
        "name": "ipython",
        "version": 3
      },
      "file_extension": ".py",
      "mimetype": "text/x-python",
      "name": "python",
      "nbconvert_exporter": "python",
      "pygments_lexer": "ipython3",
      "version": "3.8.10"
    },
    "colab": {
      "provenance": []
    }
  },
  "nbformat": 4,
  "nbformat_minor": 0
}