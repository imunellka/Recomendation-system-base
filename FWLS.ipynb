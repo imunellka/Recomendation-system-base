{
  "cells": [
    {
      "cell_type": "code",
      "execution_count": null,
      "id": "f990f2ba-5ced-497b-af88-aa0916afc4cc",
      "metadata": {
        "id": "f990f2ba-5ced-497b-af88-aa0916afc4cc"
      },
      "outputs": [],
      "source": [
        "import numpy as np\n",
        "from sklearn.base import BaseEstimator\n",
        "from sklearn.base import ClassifierMixin\n",
        "from sklearn.pipeline import _name_estimators\n",
        "from sklearn.preprocessing import LabelEncoder\n",
        "import six\n",
        "from sklearn.base import clone\n",
        "from sklearn.linear_model import LogisticRegression\n",
        "import operator\n",
        "\n",
        "import pandas as pd\n",
        "from sklearn import datasets\n",
        "from sklearn.model_selection import train_test_split"
      ]
    },
    {
      "cell_type": "code",
      "execution_count": null,
      "id": "aac78cea-ea53-4f8b-84be-a4e020c9b1a0",
      "metadata": {
        "id": "aac78cea-ea53-4f8b-84be-a4e020c9b1a0"
      },
      "outputs": [],
      "source": [
        "from sklearn.metrics import confusion_matrix\n",
        "import matplotlib.pyplot as plt"
      ]
    },
    {
      "cell_type": "code",
      "execution_count": null,
      "id": "61b6c24f-acc2-4d64-87c0-97f20ba3bc9d",
      "metadata": {
        "id": "61b6c24f-acc2-4d64-87c0-97f20ba3bc9d"
      },
      "outputs": [],
      "source": [
        "from sklearn.pipeline import Pipeline\n",
        "from sklearn.preprocessing import StandardScaler\n",
        "from sklearn.model_selection  import GridSearchCV\n",
        "from sklearn.model_selection import cross_val_score\n",
        "from sklearn.svm import SVC\n",
        "from sklearn.ensemble import RandomForestClassifier\n",
        "from sklearn.neighbors import KNeighborsClassifier\n",
        "from sklearn.linear_model import LogisticRegression"
      ]
    },
    {
      "cell_type": "code",
      "execution_count": null,
      "id": "75de1666-178a-4394-8d69-f19fdea8839d",
      "metadata": {
        "id": "75de1666-178a-4394-8d69-f19fdea8839d"
      },
      "outputs": [],
      "source": [
        "import warnings\n",
        "warnings.filterwarnings('ignore')"
      ]
    },
    {
      "cell_type": "code",
      "execution_count": null,
      "id": "ed1a8ec8-3c9a-405f-8793-af8807760c50",
      "metadata": {
        "id": "ed1a8ec8-3c9a-405f-8793-af8807760c50"
      },
      "outputs": [],
      "source": [
        "class MajorityVoteClassifier(BaseEstimator,\n",
        "                             ClassifierMixin):\n",
        "    \"\"\" Классификатор, который построен на основе \"голоса большинства\"\n",
        "    \"\"\"\n",
        "\n",
        "    def __init__(self, classifiers, vote='classlabel', weights=None):\n",
        "\n",
        "        self.classifiers = classifiers\n",
        "        self.named_classifiers = {key: value for key, value\n",
        "                                  in _name_estimators(classifiers)}\n",
        "        self.vote = vote\n",
        "        self.weights = weights\n",
        "\n",
        "    def fit(self, X, y):\n",
        "        # Fit\n",
        "        if self.vote not in ('probability', 'classlabel'):\n",
        "            raise ValueError(\"vote must be 'probability' or 'classlabel'\"\n",
        "                             \"; got (vote=%r)\"\n",
        "                             % vote)\n",
        "\n",
        "        if self.weights and len(self.weights) != len(self.classifiers):\n",
        "            raise ValueError('Number of classifiers and weights must be equal'\n",
        "                             '; got %d weights, %d classifiers'\n",
        "                             % (len(self.weights), len(self.classifiers)))\n",
        "\n",
        "        # применим кодирование элементов, чтобы было удобнее работать\n",
        "        self.lablenc_ = LabelEncoder()\n",
        "        self.lablenc_.fit(y)\n",
        "        self.classes_ = self.lablenc_.classes_\n",
        "        self.classifiers_ = []\n",
        "        for clf in self.classifiers:\n",
        "            fitted_clf = clone(clf).fit(X, self.lablenc_.transform(y))\n",
        "            self.classifiers_.append(fitted_clf)\n",
        "        return self\n",
        "\n",
        "    def predict(self, X):\n",
        "        if self.vote == 'probability':\n",
        "            maj_vote = np.argmax(self.predict_proba(X), axis=1)\n",
        "        else:  # 'classlabel' vote\n",
        "\n",
        "            # собрать все результаты clf.predict calls\n",
        "            predictions = np.asarray([clf.predict(X)\n",
        "                                      for clf in self.classifiers_]).T\n",
        "            # расчет взвешенного результата\n",
        "            maj_vote = np.apply_along_axis(\n",
        "                                      lambda x:\n",
        "                                      np.argmax(np.bincount(x,\n",
        "                                                weights=self.weights)),\n",
        "                                      axis=1,\n",
        "                                      arr=predictions)\n",
        "        maj_vote = self.lablenc_.inverse_transform(maj_vote)\n",
        "        return maj_vote\n",
        "\n",
        "    def predict_proba(self, X):\n",
        "        # предикт вероятностей по классам из выборки\n",
        "\n",
        "        probas = np.asarray([clf.predict_proba(X)\n",
        "                             for clf in self.classifiers_])\n",
        "        avg_proba = np.average(probas, axis=0, weights=self.weights)\n",
        "        return avg_proba\n",
        "\n",
        "    def get_params(self, deep=True):\n",
        "        # параметры для GridSearch\n",
        "        if not deep:\n",
        "            return super(MajorityVoteClassifier, self).get_params(deep=False)\n",
        "        else:\n",
        "            out = self.named_classifiers.copy()\n",
        "            for name, step in six.iteritems(self.named_classifiers):\n",
        "                for key, value in six.iteritems(step.get_params(deep=True)):\n",
        "                    out['%s__%s' % (name, key)] = value\n",
        "            return out"
      ]
    },
    {
      "cell_type": "code",
      "execution_count": null,
      "id": "471c0c79-4511-4f17-ab94-4f433516ea67",
      "metadata": {
        "id": "471c0c79-4511-4f17-ab94-4f433516ea67"
      },
      "outputs": [],
      "source": [
        "class FWLS_Classifier():\n",
        "    \"\"\"\n",
        "        FWLS ансамбль для классификации использует LogReg\n",
        "\n",
        "    \"\"\"\n",
        "    def __init__(self, classifiers):\n",
        "        self.classifiers = classifiers\n",
        "        self.named_classifiers = {key: value for key, value in _name_estimators(classifiers)}\n",
        "\n",
        "    def fit(self, x, y):\n",
        "        # Fit classifiers\n",
        "\n",
        "        # кодировка\n",
        "        self.lablenc_ = LabelEncoder()\n",
        "        self.lablenc_.fit(y)\n",
        "        self.classes_ = self.lablenc_.classes_\n",
        "        self.classifiers_ = []\n",
        "        for clf in self.classifiers:\n",
        "            fitted_clf = clone(clf).fit(x, self.lablenc_.transform(y))\n",
        "            self.classifiers_.append(fitted_clf)\n",
        "        return self\n",
        "\n",
        "    def predict(self, x):\n",
        "        # сбор всех результатов clf.predict calls\n",
        "        predictions = np.asarray([clf.predict(x) for clf in self.classifiers_]).T\n",
        "        return predictions\n",
        "\n",
        "    def get_params(self, deep=True):\n",
        "        # параметры для GridSearch\n",
        "        if not deep:\n",
        "            return super(FWLS_Classifier, self).get_params(deep=False)\n",
        "        else:\n",
        "            out = self.named_classifiers.copy()\n",
        "            for name, step in six.iteritems(self.named_classifiers):\n",
        "                for key, value in six.iteritems(step.get_params(deep=True)):\n",
        "                    out['%s__%s' % (name, key)] = value\n",
        "            return"
      ]
    },
    {
      "cell_type": "markdown",
      "id": "5080c452-66ea-4f52-9412-288e5a136694",
      "metadata": {
        "id": "5080c452-66ea-4f52-9412-288e5a136694"
      },
      "source": [
        "#### Рассмотрим пример"
      ]
    },
    {
      "cell_type": "code",
      "execution_count": null,
      "id": "31519354-dcaf-4949-88e0-33c1cb1aefc0",
      "metadata": {
        "id": "31519354-dcaf-4949-88e0-33c1cb1aefc0"
      },
      "outputs": [],
      "source": [
        "# загрузка данных (просто классификатор, не рекомендатор)\n",
        "iris = datasets.load_iris()\n",
        "x = iris.data[:]\n",
        "y = iris.target[:]\n",
        "y = LabelEncoder().fit_transform(y)\n",
        "x_train, x_test, y_train, y_test = train_test_split(x, y, test_size=0.4, random_state=1)"
      ]
    },
    {
      "cell_type": "markdown",
      "id": "95c019be-9174-4251-88a1-023b00222d59",
      "metadata": {
        "id": "95c019be-9174-4251-88a1-023b00222d59"
      },
      "source": [
        "#### Создадим набор пайплайнов"
      ]
    },
    {
      "cell_type": "code",
      "execution_count": null,
      "id": "f7487210-bc13-448f-8665-059c8750be92",
      "metadata": {
        "id": "f7487210-bc13-448f-8665-059c8750be92",
        "outputId": "4ef023fe-e3a9-4503-99d8-96783af0d150"
      },
      "outputs": [
        {
          "name": "stdout",
          "output_type": "stream",
          "text": [
            "Optimal SVM parameters are:  {'clf__C': 100.0, 'clf__gamma': 0.01, 'clf__kernel': 'rbf'}\n",
            "Average SVM Accuracy: 0.956 +/- 0.042\n"
          ]
        }
      ],
      "source": [
        "#SVM pipeline\n",
        "pipe_svc = Pipeline([('scl', StandardScaler()), ('clf', SVC(random_state=1, probability=True))])\n",
        "\n",
        "\n",
        "# параметры для тюнинга\n",
        "param_range = [0.0001, 0.001, 0.01, 0.1, 1.0, 10.0, 100.0, 1000.0]\n",
        "param_grid = [{'clf__C': param_range, 'clf__kernel': ['linear']},\n",
        "                 {'clf__C': param_range, 'clf__gamma': param_range, 'clf__kernel': ['rbf']}]\n",
        "\n",
        "# лучшие парамтеры\n",
        "gs = GridSearchCV(estimator=pipe_svc, param_grid=param_grid, scoring='accuracy', cv=5)\n",
        "gs.fit(x_train, y_train)\n",
        "best_SVM_params = gs.best_params_\n",
        "print(\"Optimal SVM parameters are: \", best_SVM_params)\n",
        "scores = cross_val_score(gs, x_train, y_train, scoring='accuracy', cv=5)\n",
        "print(\"Average SVM Accuracy: %.3f +/- %.3f\" % (np.mean(scores), np.std(scores)))\n",
        "\n",
        "\n",
        "# отбор первого классификатора\n",
        "classifier1 = SVC(C=gs.best_params_['clf__C'], kernel=gs.best_params_['clf__kernel'], gamma=gs.best_params_['clf__gamma'])"
      ]
    },
    {
      "cell_type": "code",
      "execution_count": null,
      "id": "adfeebd4-1b31-456b-9093-e04da972153a",
      "metadata": {
        "id": "adfeebd4-1b31-456b-9093-e04da972153a",
        "outputId": "47eeb113-a37a-4c68-c7bc-a32c41798898"
      },
      "outputs": [
        {
          "name": "stdout",
          "output_type": "stream",
          "text": [
            "Optimal RF parameters are:  {'clf__max_features': 2, 'clf__n_estimators': 100}\n",
            "Average RF Accuracy: 0.933 +/- 0.022\n"
          ]
        }
      ],
      "source": [
        "#Random forest pipeline\n",
        "pipe_rf = Pipeline([('clf', RandomForestClassifier(criterion='entropy', random_state=1, n_jobs=-1))])\n",
        "\n",
        "# параметры для тюнинга\n",
        "param_range_trees = [10, 50, 100, 200, 500]\n",
        "param_range_features = [2, 3, 4]\n",
        "param_grid = [{'clf__n_estimators': param_range_trees, 'clf__max_features': param_range_features}]\n",
        "\n",
        "\n",
        "# поиск лучших\n",
        "gs = GridSearchCV(estimator=pipe_rf, param_grid=param_grid, scoring='accuracy', cv=5)\n",
        "gs.fit(x_train, y_train)\n",
        "best_rf_params = gs.best_params_\n",
        "print(\"Optimal RF parameters are: \", best_rf_params)\n",
        "scores = cross_val_score(gs, x_train, y_train, scoring='accuracy', cv=2)\n",
        "print(\"Average RF Accuracy: %.3f +/- %.3f\" % (np.mean(scores), np.std(scores)))\n",
        "\n",
        "#второй классификатор\n",
        "classifier2 = RandomForestClassifier(n_estimators=gs.best_params_['clf__n_estimators'], max_features=gs.best_params_['clf__max_features'], criterion='entropy', random_state=1, n_jobs=-1)"
      ]
    },
    {
      "cell_type": "code",
      "execution_count": null,
      "id": "ba6bc522-09bc-4395-b839-7ff15298d154",
      "metadata": {
        "id": "ba6bc522-09bc-4395-b839-7ff15298d154",
        "outputId": "6e57d9bd-2b25-42c5-f7aa-91bd2c626720"
      },
      "outputs": [
        {
          "name": "stdout",
          "output_type": "stream",
          "text": [
            "Optimal KNN parameters are:  {'clf__n_neighbors': 1}\n",
            "Average KNN Accuracy: 0.922 +/- 0.057\n"
          ]
        }
      ],
      "source": [
        "#KNN pipeline\n",
        "pipe_knn = Pipeline([('scl', StandardScaler()), ('clf', KNeighborsClassifier())])\n",
        "\n",
        "\n",
        "# параметры для тюнинга\n",
        "param_range = [1, 2, 5, 9]\n",
        "param_grid = [{'clf__n_neighbors': param_range}]\n",
        "gs = GridSearchCV(estimator=pipe_knn, param_grid=param_grid, scoring='accuracy', cv=5)\n",
        "gs.fit(x_train, y_train)\n",
        "best_KNN_params = gs.best_params_\n",
        "print(\"Optimal KNN parameters are: \", best_KNN_params)\n",
        "scores = cross_val_score(gs, x_train, y_train, scoring='accuracy', cv=5)\n",
        "print(\"Average KNN Accuracy: %.3f +/- %.3f\" % (np.mean(scores), np.std(scores)))\n",
        "\n",
        "\n",
        "\n",
        "\n",
        "# третий классификатор\n",
        "classifier3 = KNeighborsClassifier(n_neighbors=gs.best_params_['clf__n_neighbors'])"
      ]
    },
    {
      "cell_type": "markdown",
      "id": "81342a41-8f28-4295-a71a-3412bf1c6646",
      "metadata": {
        "id": "81342a41-8f28-4295-a71a-3412bf1c6646"
      },
      "source": [
        "### Создаем единый классификтор - Majority vote ensemble"
      ]
    },
    {
      "cell_type": "code",
      "execution_count": null,
      "id": "9fe5338a-b46e-4a7f-aaf7-0629b7ecefa2",
      "metadata": {
        "id": "9fe5338a-b46e-4a7f-aaf7-0629b7ecefa2"
      },
      "outputs": [],
      "source": [
        "# объединяем пайпланый и добавляем скалирование\n",
        "pipe1 = Pipeline([['sc', StandardScaler()], ['clf', classifier1]])\n",
        "pipe3 = Pipeline([['sc', StandardScaler()], ['clf', classifier3]])\n",
        "\n",
        "# метки моделей\n",
        "clf_labels = ['SVM', 'Random Forest', 'KNN', 'Majority Vote Classifier']\n",
        "\n",
        "\n",
        "# инит основной модели\n",
        "mv_clf = MajorityVoteClassifier(classifiers=[pipe1, classifier2, pipe3])"
      ]
    },
    {
      "cell_type": "code",
      "execution_count": null,
      "id": "313bc65d-f7e0-47e3-9327-36d0d126ec56",
      "metadata": {
        "id": "313bc65d-f7e0-47e3-9327-36d0d126ec56",
        "outputId": "13f7dac8-d206-454e-ea76-275efda8f155"
      },
      "outputs": [
        {
          "name": "stdout",
          "output_type": "stream",
          "text": [
            "Average accuracy: 0.98 (+/- 0.04) [SVM]\n",
            "Average accuracy: 0.93 (+/- 0.07) [Random Forest]\n",
            "Average accuracy: 0.93 (+/- 0.07) [KNN]\n",
            "Average accuracy: 0.94 (+/- 0.06) [Majority Vote Classifier]\n"
          ]
        }
      ],
      "source": [
        "# 10 фолдов для кросс-валидации\n",
        "all_clf = [pipe1, classifier2, pipe3, mv_clf]\n",
        "for clf, label in zip(all_clf, clf_labels):\n",
        "    scores = cross_val_score(estimator=clf, X=x_train, y=y_train, scoring='accuracy', cv=10)\n",
        "    print(\"Average accuracy: %0.2f (+/- %0.2f) [%s]\" % (scores.mean(), scores.std(), label))\n",
        "\n",
        "#Fit\n",
        "mv_clf.fit(x_train, y_train)\n",
        "#Предикт\n",
        "y_test_pred = mv_clf.predict(x_test)\n"
      ]
    },
    {
      "cell_type": "code",
      "execution_count": null,
      "id": "4f0d12f8-3288-4fcb-b728-b2414abc899f",
      "metadata": {
        "id": "4f0d12f8-3288-4fcb-b728-b2414abc899f",
        "outputId": "38c6d394-aed4-4c7c-f5eb-7176d24d2970"
      },
      "outputs": [
        {
          "data": {
            "image/png": "[encoded data removed]",
            "text/plain": [
              "<Figure size 180x180 with 1 Axes>"
            ]
          },
          "metadata": {
            "needs_background": "light"
          },
          "output_type": "display_data"
        }
      ],
      "source": [
        "# Обзор результатов\n",
        "confmat = confusion_matrix(y_true=y_test, y_pred=y_test_pred)\n",
        "fig, ax = plt.subplots(figsize=(2.5, 2.5))\n",
        "ax.matshow(confmat, cmap=plt.cm.Blues, alpha=0.3)\n",
        "for i in range(confmat.shape[0]):\n",
        "    for j in range(confmat.shape[1]):\n",
        "        ax.text(x=j, y=i, s=confmat[i,j], va='center', ha='center')\n",
        "plt.xlabel('Предикт')\n",
        "plt.ylabel('Факт')\n",
        "plt.title('Confusion Matrix: Majority Vote Ensemble Classifier')\n",
        "plt.subplots_adjust(left=0.1, right=0.9, top=0.9, bottom=0.1)\n",
        "plt.show()\n",
        "\n"
      ]
    },
    {
      "cell_type": "markdown",
      "id": "03998d24-5305-4442-a8e7-01592bdbd2d4",
      "metadata": {
        "id": "03998d24-5305-4442-a8e7-01592bdbd2d4"
      },
      "source": [
        "### Создаем единый классификтор - FWLS"
      ]
    },
    {
      "cell_type": "code",
      "execution_count": null,
      "id": "51378a54-0fdc-4e53-810e-3edda45c6a31",
      "metadata": {
        "id": "51378a54-0fdc-4e53-810e-3edda45c6a31"
      },
      "outputs": [],
      "source": [
        "# создаем пайплайны\n",
        "pipe1 = Pipeline([['sc', StandardScaler()], ['clf', classifier1]])\n",
        "pipe3 = Pipeline([['sc', StandardScaler()], ['clf', classifier3]])\n",
        "\n",
        "# инит модели\n",
        "fwls_clf = FWLS_Classifier(classifiers=[pipe1, classifier2, pipe3])\n",
        "\n",
        "#Fit\n",
        "fwls_clf.fit(x_train, y_train)\n",
        "#предикт трейн\n",
        "y_train_pred = fwls_clf.predict(x_train)\n",
        "#предикт тест\n",
        "y_test_pred = fwls_clf.predict(x_test)\n"
      ]
    },
    {
      "cell_type": "code",
      "execution_count": null,
      "id": "1ea07eeb-0a53-48d0-8cc7-924ce87ef6e8",
      "metadata": {
        "id": "1ea07eeb-0a53-48d0-8cc7-924ce87ef6e8",
        "outputId": "2b261006-5602-4c9e-b8c5-7261a0119baf"
      },
      "outputs": [
        {
          "name": "stdout",
          "output_type": "stream",
          "text": [
            "Test Accuracy of FWLS ensemble model: 0.967\n"
          ]
        }
      ],
      "source": [
        "# обучим регрессию для синка результатов\n",
        "pipe_lr = Pipeline([('clf', LogisticRegression(random_state=1))])\n",
        "pipe_lr.fit(y_train_pred, y_train)\n",
        "#предикт FWLS\n",
        "y_pred = pipe_lr.predict(y_test_pred)\n",
        "\n",
        "print('Test Accuracy of FWLS ensemble model: %.3f' % pipe_lr.score(y_test_pred, y_test))"
      ]
    },
    {
      "cell_type": "code",
      "execution_count": null,
      "id": "5ec70d04-77b2-4d79-b2f3-66b07f1c7720",
      "metadata": {
        "id": "5ec70d04-77b2-4d79-b2f3-66b07f1c7720",
        "outputId": "fa7037a5-fdbc-4880-a549-bedf336f3f48"
      },
      "outputs": [
        {
          "data": {
            "image/png": "[encoded data removed]",
            "text/plain": [
              "<Figure size 180x180 with 1 Axes>"
            ]
          },
          "metadata": {
            "needs_background": "light"
          },
          "output_type": "display_data"
        }
      ],
      "source": [
        "# Обзор результатов\n",
        "from sklearn.metrics import confusion_matrix\n",
        "import matplotlib.pyplot as plt\n",
        "\n",
        "confmat = confusion_matrix(y_true=y_test, y_pred=y_pred)\n",
        "fig, ax = plt.subplots(figsize=(2.5, 2.5))\n",
        "ax.matshow(confmat, cmap=plt.cm.Blues, alpha=0.3)\n",
        "for i in range(confmat.shape[0]):\n",
        "    for j in range(confmat.shape[1]):\n",
        "        ax.text(x=j, y=i, s=confmat[i,j], va='center', ha='center')\n",
        "plt.xlabel('предикт')\n",
        "plt.ylabel('факт')\n",
        "plt.title('Confusion Matrix: FWLS Ensemble Classifier')\n",
        "plt.subplots_adjust(left=0.1, right=0.9, top=0.9, bottom=0.1)\n",
        "plt.show()"
      ]
    }
  ],
  "metadata": {
    "kernelspec": {
      "display_name": "Python 3 (ipykernel)",
      "language": "python",
      "name": "python3"
    },
    "language_info": {
      "codemirror_mode": {
        "name": "ipython",
        "version": 3
      },
      "file_extension": ".py",
      "mimetype": "text/x-python",
      "name": "python",
      "nbconvert_exporter": "python",
      "pygments_lexer": "ipython3",
      "version": "3.8.10"
    },
    "colab": {
      "provenance": []
    }
  },
  "nbformat": 4,
  "nbformat_minor": 5
}