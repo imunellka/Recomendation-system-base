{
  "cells": [
    {
      "cell_type": "markdown",
      "metadata": {
        "id": "AfptvcNkRGEs"
      },
      "source": [
        "## Построение рекомендаций на основе расстояний"
      ]
    },
    {
      "cell_type": "code",
      "execution_count": null,
      "metadata": {
        "id": "mUjhAAZERGEv",
        "outputId": "7e89ba7c-8f3a-46a9-b456-2208c39b4f38"
      },
      "outputs": [
        {
          "data": {
            "text/html": [
              "<style>.container { width:100% !important; }</style>"
            ],
            "text/plain": [
              "<IPython.core.display.HTML object>"
            ]
          },
          "metadata": {},
          "output_type": "display_data"
        }
      ],
      "source": [
        "import numpy as np\n",
        "import pandas as pd\n",
        "from scipy import spatial\n",
        "\n",
        "import warnings\n",
        "warnings.filterwarnings('ignore')\n",
        "\n",
        "\n",
        "from IPython.core.display import display, HTML\n",
        "display(HTML(\"<style>.container { width:100% !important; }</style>\"))\n",
        "\n",
        "import seaborn as  sns\n",
        "import matplotlib.pyplot as plt"
      ]
    },
    {
      "cell_type": "code",
      "execution_count": null,
      "metadata": {
        "id": "pPoOzsOWRGEx"
      },
      "outputs": [],
      "source": [
        "pd.set_option('display.max_rows', 500)\n",
        "pd.set_option('display.max_columns', 500)\n",
        "pd.set_option('display.width', 200)"
      ]
    },
    {
      "cell_type": "code",
      "execution_count": null,
      "metadata": {
        "id": "r_RzU5yjRGEy"
      },
      "outputs": [],
      "source": [
        "# переведем это в код\n",
        "a = [5., 1.]\n",
        "b = [4., 4.]\n",
        "c = [3.5, 2.5]\n",
        "d = [2., 3.]\n",
        "\n",
        "labels = [\"A\", \"B\", \"C\", \"D\"]\n",
        "data = np.append([a], [b], axis=0)\n",
        "data = np.append(data, [c], axis=0)\n",
        "data = np.append(data, [d], axis=0)"
      ]
    },
    {
      "cell_type": "markdown",
      "metadata": {
        "id": "1uH8AWoMRGE1"
      },
      "source": [
        "### Метрики сходства"
      ]
    },
    {
      "cell_type": "code",
      "execution_count": null,
      "metadata": {
        "id": "Ox2fJj1YRGE2"
      },
      "outputs": [],
      "source": [
        "def euclidean_distance(x,y):\n",
        "    from math import pow, sqrt\n",
        "    return sqrt(sum(pow(a-b,2) for a, b in zip(x, y)))"
      ]
    },
    {
      "cell_type": "code",
      "execution_count": null,
      "metadata": {
        "id": "Unw6VkHGRGE2"
      },
      "outputs": [],
      "source": [
        "def manhattan_distance(x,y):\n",
        "    return sum(abs(a-b) for a,b in zip(x,y))"
      ]
    },
    {
      "cell_type": "code",
      "execution_count": null,
      "metadata": {
        "id": "ovcTLwjERGE3"
      },
      "outputs": [],
      "source": [
        "def nth_root(value, n_root):\n",
        "    from decimal import Decimal\n",
        "    root_value = 1/float(n_root)\n",
        "    return round (Decimal(value) ** Decimal(root_value),3)\n",
        "\n",
        "def minkowski_distance(x,y,p_value):\n",
        "    from math import pow\n",
        "    return nth_root(sum(pow(abs(a-b),p_value) for a,b in zip(x, y)),p_value)"
      ]
    },
    {
      "cell_type": "code",
      "execution_count": null,
      "metadata": {
        "id": "E_P3qD3RRGE3"
      },
      "outputs": [],
      "source": [
        "def square_rooted(x):\n",
        "    from math import pow, sqrt\n",
        "    return round(sqrt(sum([a*a for a in x])),3)\n",
        "\n",
        "def cosine_similarity(x,y):\n",
        "    numerator = sum(a*b for a,b in zip(x,y))\n",
        "    denominator = square_rooted(x)*square_rooted(y)\n",
        "    return round(numerator/float(denominator),3)"
      ]
    },
    {
      "cell_type": "code",
      "execution_count": null,
      "metadata": {
        "id": "LXD01a6bRGE3",
        "outputId": "0da1a430-f242-4674-9b95-d376e4fc9f7a"
      },
      "outputs": [
        {
          "data": {
            "text/plain": [
              "2.1213203435596424"
            ]
          },
          "execution_count": 10,
          "metadata": {},
          "output_type": "execute_result"
        }
      ],
      "source": [
        "euclidean_distance(a,c)"
      ]
    },
    {
      "cell_type": "code",
      "execution_count": null,
      "metadata": {
        "id": "c8LD-Iq6RGE4",
        "outputId": "fce54a04-14f7-4d1f-a5ee-a5af5a48e642"
      },
      "outputs": [
        {
          "data": {
            "text/plain": [
              "3.0"
            ]
          },
          "execution_count": 11,
          "metadata": {},
          "output_type": "execute_result"
        }
      ],
      "source": [
        "manhattan_distance(a,c)"
      ]
    },
    {
      "cell_type": "code",
      "execution_count": null,
      "metadata": {
        "id": "m0rphL7ERGE4",
        "outputId": "d8316480-fc1e-44bb-ddf2-d6e94e164e27"
      },
      "outputs": [
        {
          "data": {
            "text/plain": [
              "(Decimal('3.000'), Decimal('2.121'))"
            ]
          },
          "execution_count": 12,
          "metadata": {},
          "output_type": "execute_result"
        }
      ],
      "source": [
        "# p = 2 - это считается, как Эвклидово\n",
        "# p = 1 - это считается, как Манхэттен\n",
        "minkowski_distance(a,c, 1), minkowski_distance(a,c, 2)"
      ]
    },
    {
      "cell_type": "code",
      "execution_count": null,
      "metadata": {
        "id": "zavrbs8gRGE4",
        "outputId": "09d6d9e4-73ad-49f8-a280-ad66e6c47471"
      },
      "outputs": [
        {
          "data": {
            "text/plain": [
              "Decimal('1.608')"
            ]
          },
          "execution_count": 17,
          "metadata": {},
          "output_type": "execute_result"
        }
      ],
      "source": [
        "minkowski_distance(a,c, 10)"
      ]
    },
    {
      "cell_type": "code",
      "execution_count": null,
      "metadata": {
        "id": "Q69MTF9vRGE5",
        "outputId": "0637240d-3feb-4206-e55a-2abe3c3efe53"
      },
      "outputs": [
        {
          "data": {
            "text/plain": [
              "0.912"
            ]
          },
          "execution_count": 14,
          "metadata": {},
          "output_type": "execute_result"
        }
      ],
      "source": [
        "cosine_similarity(a,c)"
      ]
    },
    {
      "cell_type": "markdown",
      "metadata": {
        "id": "cqCbEriZRGE5"
      },
      "source": [
        "### Встроенное расстояние"
      ]
    },
    {
      "cell_type": "code",
      "execution_count": null,
      "metadata": {
        "id": "ChXSBeufRGE5",
        "outputId": "b934ea35-cd05-4ac6-b519-a42751e92d80"
      },
      "outputs": [
        {
          "name": "stdout",
          "output_type": "stream",
          "text": [
            "A-C: 2.1213203435596424\n",
            "A-B: 3.1622776601683795\n",
            "A-D: 3.605551275463989\n",
            "A-А: 0.0\n"
          ]
        }
      ],
      "source": [
        "# расстояние одной точки А до остальных\n",
        "print(\"A-C:\",spatial.distance.euclidean(a, c))\n",
        "print(\"A-B:\", spatial.distance.euclidean(a, b))\n",
        "print(\"A-D:\", spatial.distance.euclidean(a, d))\n",
        "\n",
        "# действительно считает)\n",
        "print(\"A-А:\", spatial.distance.euclidean(a, a))"
      ]
    },
    {
      "cell_type": "code",
      "execution_count": null,
      "metadata": {
        "id": "ZcU4dCIfRGE5",
        "outputId": "5cf17fba-794c-445b-dc8e-69e8c8416d71"
      },
      "outputs": [
        {
          "name": "stdout",
          "output_type": "stream",
          "text": [
            "C-A: 0.0880784948248936\n",
            "C-B: 0.013606076167856251\n",
            "C-D: 0.06500247368221657\n"
          ]
        }
      ],
      "source": [
        "print(\"C-A:\", spatial.distance.cosine(c,a))\n",
        "print(\"C-B:\", spatial.distance.cosine(c,b))\n",
        "print(\"C-D:\", spatial.distance.cosine(c,d))"
      ]
    },
    {
      "cell_type": "code",
      "execution_count": null,
      "metadata": {
        "id": "WLEeQj_IRGE6",
        "outputId": "b218c75c-0d59-4393-a397-1dadf6851976"
      },
      "outputs": [
        {
          "data": {
            "text/html": [
              "<div>\n",
              "<style scoped>\n",
              "    .dataframe tbody tr th:only-of-type {\n",
              "        vertical-align: middle;\n",
              "    }\n",
              "\n",
              "    .dataframe tbody tr th {\n",
              "        vertical-align: top;\n",
              "    }\n",
              "\n",
              "    .dataframe thead th {\n",
              "        text-align: right;\n",
              "    }\n",
              "</style>\n",
              "<table border=\"1\" class=\"dataframe\">\n",
              "  <thead>\n",
              "    <tr style=\"text-align: right;\">\n",
              "      <th></th>\n",
              "      <th>U1</th>\n",
              "      <th>U2</th>\n",
              "      <th>SIM</th>\n",
              "    </tr>\n",
              "  </thead>\n",
              "  <tbody>\n",
              "    <tr>\n",
              "      <th>4</th>\n",
              "      <td>[4.0, 4.0]</td>\n",
              "      <td>[3.5, 2.5]</td>\n",
              "      <td>0.013606</td>\n",
              "    </tr>\n",
              "    <tr>\n",
              "      <th>7</th>\n",
              "      <td>[3.5, 2.5]</td>\n",
              "      <td>[4.0, 4.0]</td>\n",
              "      <td>0.013606</td>\n",
              "    </tr>\n",
              "    <tr>\n",
              "      <th>5</th>\n",
              "      <td>[4.0, 4.0]</td>\n",
              "      <td>[2.0, 3.0]</td>\n",
              "      <td>0.019419</td>\n",
              "    </tr>\n",
              "    <tr>\n",
              "      <th>10</th>\n",
              "      <td>[2.0, 3.0]</td>\n",
              "      <td>[4.0, 4.0]</td>\n",
              "      <td>0.019419</td>\n",
              "    </tr>\n",
              "    <tr>\n",
              "      <th>8</th>\n",
              "      <td>[3.5, 2.5]</td>\n",
              "      <td>[2.0, 3.0]</td>\n",
              "      <td>0.065002</td>\n",
              "    </tr>\n",
              "    <tr>\n",
              "      <th>11</th>\n",
              "      <td>[2.0, 3.0]</td>\n",
              "      <td>[3.5, 2.5]</td>\n",
              "      <td>0.065002</td>\n",
              "    </tr>\n",
              "    <tr>\n",
              "      <th>1</th>\n",
              "      <td>[5.0, 1.0]</td>\n",
              "      <td>[3.5, 2.5]</td>\n",
              "      <td>0.088078</td>\n",
              "    </tr>\n",
              "    <tr>\n",
              "      <th>6</th>\n",
              "      <td>[3.5, 2.5]</td>\n",
              "      <td>[5.0, 1.0]</td>\n",
              "      <td>0.088078</td>\n",
              "    </tr>\n",
              "    <tr>\n",
              "      <th>0</th>\n",
              "      <td>[5.0, 1.0]</td>\n",
              "      <td>[4.0, 4.0]</td>\n",
              "      <td>0.167950</td>\n",
              "    </tr>\n",
              "    <tr>\n",
              "      <th>3</th>\n",
              "      <td>[4.0, 4.0]</td>\n",
              "      <td>[5.0, 1.0]</td>\n",
              "      <td>0.167950</td>\n",
              "    </tr>\n",
              "    <tr>\n",
              "      <th>2</th>\n",
              "      <td>[5.0, 1.0]</td>\n",
              "      <td>[2.0, 3.0]</td>\n",
              "      <td>0.292893</td>\n",
              "    </tr>\n",
              "    <tr>\n",
              "      <th>9</th>\n",
              "      <td>[2.0, 3.0]</td>\n",
              "      <td>[5.0, 1.0]</td>\n",
              "      <td>0.292893</td>\n",
              "    </tr>\n",
              "  </tbody>\n",
              "</table>\n",
              "</div>"
            ],
            "text/plain": [
              "            U1          U2       SIM\n",
              "4   [4.0, 4.0]  [3.5, 2.5]  0.013606\n",
              "7   [3.5, 2.5]  [4.0, 4.0]  0.013606\n",
              "5   [4.0, 4.0]  [2.0, 3.0]  0.019419\n",
              "10  [2.0, 3.0]  [4.0, 4.0]  0.019419\n",
              "8   [3.5, 2.5]  [2.0, 3.0]  0.065002\n",
              "11  [2.0, 3.0]  [3.5, 2.5]  0.065002\n",
              "1   [5.0, 1.0]  [3.5, 2.5]  0.088078\n",
              "6   [3.5, 2.5]  [5.0, 1.0]  0.088078\n",
              "0   [5.0, 1.0]  [4.0, 4.0]  0.167950\n",
              "3   [4.0, 4.0]  [5.0, 1.0]  0.167950\n",
              "2   [5.0, 1.0]  [2.0, 3.0]  0.292893\n",
              "9   [2.0, 3.0]  [5.0, 1.0]  0.292893"
            ]
          },
          "execution_count": 20,
          "metadata": {},
          "output_type": "execute_result"
        }
      ],
      "source": [
        "# сделаем расчет по всем точкам\n",
        "\n",
        "dot_list = [a, b, c, d]\n",
        "df = pd.DataFrame(columns = ['U1', 'U2', 'SIM'])\n",
        "\n",
        "n=0\n",
        "for i in dot_list:\n",
        "    for j in dot_list:\n",
        "        if i != j :\n",
        "            result = spatial.distance.cosine(i,j)\n",
        "            df.loc[n] = [i, j, result]\n",
        "            n+=1\n",
        "\n",
        "df.sort_values(by = 'SIM')"
      ]
    },
    {
      "cell_type": "markdown",
      "metadata": {
        "id": "b7Ogb4hYRGE6"
      },
      "source": [
        "### Коллаборативная фильтрация (KNN)"
      ]
    },
    {
      "cell_type": "code",
      "execution_count": null,
      "metadata": {
        "id": "RYbXML69RGE6"
      },
      "outputs": [],
      "source": [
        "import pandas as pd\n",
        "import numpy as np\n",
        "import random\n",
        "import sklearn\n",
        "import sklearn.model_selection\n",
        "import sklearn.linear_model\n",
        "import sklearn.metrics\n",
        "import sklearn.metrics.pairwise\n",
        "import math\n"
      ]
    },
    {
      "cell_type": "code",
      "execution_count": null,
      "metadata": {
        "id": "_NJWaieoRGE7"
      },
      "outputs": [],
      "source": [
        "ratings = pd.read_csv('ratings.csv')\n",
        "movies = pd.read_csv('movies.csv')\n",
        "tags = pd.read_csv('tags.csv')\n",
        "\n",
        "train_ratings, test_ratings = sklearn.model_selection.train_test_split(ratings, test_size=0.2)"
      ]
    },
    {
      "cell_type": "code",
      "execution_count": null,
      "metadata": {
        "id": "dR70ANbWRGE7",
        "outputId": "6ea83333-f1e8-4d4c-cc66-52d0422ad3d4"
      },
      "outputs": [
        {
          "data": {
            "text/html": [
              "<div>\n",
              "<style scoped>\n",
              "    .dataframe tbody tr th:only-of-type {\n",
              "        vertical-align: middle;\n",
              "    }\n",
              "\n",
              "    .dataframe tbody tr th {\n",
              "        vertical-align: top;\n",
              "    }\n",
              "\n",
              "    .dataframe thead th {\n",
              "        text-align: right;\n",
              "    }\n",
              "</style>\n",
              "<table border=\"1\" class=\"dataframe\">\n",
              "  <thead>\n",
              "    <tr style=\"text-align: right;\">\n",
              "      <th></th>\n",
              "      <th>userId</th>\n",
              "      <th>movieId</th>\n",
              "      <th>rating</th>\n",
              "      <th>timestamp</th>\n",
              "    </tr>\n",
              "  </thead>\n",
              "  <tbody>\n",
              "    <tr>\n",
              "      <th>44110</th>\n",
              "      <td>311</td>\n",
              "      <td>4795</td>\n",
              "      <td>3.0</td>\n",
              "      <td>1091465146</td>\n",
              "    </tr>\n",
              "    <tr>\n",
              "      <th>87032</th>\n",
              "      <td>580</td>\n",
              "      <td>3948</td>\n",
              "      <td>2.5</td>\n",
              "      <td>1269895083</td>\n",
              "    </tr>\n",
              "    <tr>\n",
              "      <th>42621</th>\n",
              "      <td>306</td>\n",
              "      <td>1096</td>\n",
              "      <td>4.0</td>\n",
              "      <td>939814997</td>\n",
              "    </tr>\n",
              "    <tr>\n",
              "      <th>55608</th>\n",
              "      <td>402</td>\n",
              "      <td>6934</td>\n",
              "      <td>2.5</td>\n",
              "      <td>1443394446</td>\n",
              "    </tr>\n",
              "    <tr>\n",
              "      <th>32535</th>\n",
              "      <td>235</td>\n",
              "      <td>1513</td>\n",
              "      <td>3.5</td>\n",
              "      <td>1111558190</td>\n",
              "    </tr>\n",
              "  </tbody>\n",
              "</table>\n",
              "</div>"
            ],
            "text/plain": [
              "       userId  movieId  rating   timestamp\n",
              "44110     311     4795     3.0  1091465146\n",
              "87032     580     3948     2.5  1269895083\n",
              "42621     306     1096     4.0   939814997\n",
              "55608     402     6934     2.5  1443394446\n",
              "32535     235     1513     3.5  1111558190"
            ]
          },
          "execution_count": 24,
          "metadata": {},
          "output_type": "execute_result"
        }
      ],
      "source": [
        "train_ratings.head(5)"
      ]
    },
    {
      "cell_type": "code",
      "execution_count": null,
      "metadata": {
        "id": "hitQMYI2RGE7"
      },
      "outputs": [],
      "source": [
        "#сделаем наборы для более удобного поиска\n",
        "movie_users = {}\n",
        "user_movies = {}\n",
        "for index, row in train_ratings.iterrows():\n",
        "    if row['movieId'] not in movie_users:\n",
        "        movie_users[row['movieId']] = {}\n",
        "\n",
        "    if row['userId'] not in user_movies:\n",
        "        user_movies[row['userId']] = {}\n",
        "\n",
        "    movie_users[row['movieId']][row['userId']] = row['rating']\n",
        "    user_movies[row['userId']][row['movieId']] = row['rating']\n"
      ]
    },
    {
      "cell_type": "code",
      "execution_count": null,
      "metadata": {
        "id": "BgwKW2OfRGE7"
      },
      "outputs": [],
      "source": [
        "# сделаем расчет по всем пользователям\n",
        "# проверяем разницу на основе cos(A,B)\n",
        "similarities = {}\n",
        "\n",
        "# все фильмы пользователя 1\n",
        "for user1 in user_movies:\n",
        "    if user1 not in similarities:\n",
        "        similarities[user1] = {}\n",
        "\n",
        "    # все фильмы пользователя 2\n",
        "    for user2 in user_movies:\n",
        "        if user2 in similarities[user1] or user1 == user2:\n",
        "            continue\n",
        "\n",
        "        user1_ratings = []\n",
        "        user2_ratings = []\n",
        "\n",
        "        # только те фильме, которые оба пользователя смотрели\n",
        "        for key in user_movies[user1]:\n",
        "            watched_users = movie_users[key]\n",
        "            if user1 in watched_users and user2 in watched_users:\n",
        "                user1_ratings.append(watched_users[user1])\n",
        "                user2_ratings.append(watched_users[user2])\n",
        "\n",
        "        if len(user1_ratings) > 0:\n",
        "            if user2 not in similarities:\n",
        "                similarities[user2] = {}\n",
        "\n",
        "            # делаем расчет расстояния\n",
        "            sim = np.dot(user1_ratings, user2_ratings) / (np.linalg.norm(user1_ratings) * np.linalg.norm(user2_ratings))\n",
        "            similarities[user1][user2] = sim\n",
        "            similarities[user2][user1] = sim"
      ]
    },
    {
      "cell_type": "code",
      "execution_count": null,
      "metadata": {
        "id": "YBKsW2JZRGE8"
      },
      "outputs": [],
      "source": [
        "#KNN\n",
        "def knn_predict(k, userId, movieId):\n",
        "    watched_users = movie_users[movieId]\n",
        "\n",
        "    sim_scores = []\n",
        "    rating_scores = []\n",
        "\n",
        "    for w in watched_users:\n",
        "        if w in similarities[userId]:\n",
        "            sim_scores.append(similarities[userId][w])\n",
        "            rating_scores.append(watched_users[w])\n",
        "\n",
        "    #Считаем скоринг и находим ближайших\n",
        "    if len(sim_scores) > 0:\n",
        "        sim_df = pd.DataFrame(data={'sim' : sim_scores, 'rating' : rating_scores})\n",
        "\n",
        "        # делаем сортировку\n",
        "        sorted_sim_df = sim_df.sort_values(by=['sim'], ascending = False)\n",
        "        # отбор топ - это и есть ближайшие\n",
        "        knearest = sorted_sim_df.head(k)\n",
        "\n",
        "        numerator = 0\n",
        "        denomenator = 0\n",
        "        for index, row in knearest.iterrows():\n",
        "            numerator += row['sim'] * row['rating']\n",
        "            denomenator += row['sim']\n",
        "        return numerator / denomenator\n",
        "    else:\n",
        "        # можно возвращать любой случайный рейтинг или средний по всем\n",
        "        return 2.5\n",
        ""
      ]
    },
    {
      "cell_type": "code",
      "source": [
        "# # сделаем расчет\n",
        "\n",
        "# # определим кол-во ближайших соседей (набор, чтобы увидеть разницу)\n",
        "# Ks= [10, 15, 20, 25]\n",
        "\n",
        "# # сделаем подбор для тех, кто есть в тестовой выборке\n",
        "# for K in Ks:\n",
        "#     predicted_ratings = []\n",
        "#     actual_ratings = []\n",
        "\n",
        "#     for index, row in test_ratings.iterrows():\n",
        "#         if row['movieId'] not in movie_users:\n",
        "#             continue\n",
        "\n",
        "#         pred = knn_predict(K, row['userId'], row['movieId'])\n",
        "\n",
        "#         # сохраним результат\n",
        "#         predicted_ratings.append(pred)\n",
        "#         actual_ratings.append(row['rating'])\n",
        "\n",
        "#     # метрика (факт / предикт)\n",
        "#     rmse = math.sqrt(sklearn.metrics.mean_squared_error(predicted_ratings, actual_ratings))\n",
        "#     print(\"K - \", K, \" | RMSE:\", rmse)"
      ],
      "metadata": {
        "id": "3_3YAdt3Sa3l"
      },
      "execution_count": null,
      "outputs": []
    },
    {
      "cell_type": "markdown",
      "metadata": {
        "id": "0hsI5lEgRGE8"
      },
      "source": [
        "#### KNN - но библиотекой Surprise\n",
        "\n",
        "Мы можем использовать:\n",
        "- разные метрики для поиска похожих элементов: cosine, msd, pearson, pearson_baseline\n",
        "- использовать user_base / item_based подходы\n",
        "- min_support - минимальное кол-во предметов в наборе для поиска\n"
      ]
    },
    {
      "cell_type": "code",
      "execution_count": null,
      "metadata": {
        "id": "cpnuj_fWRGE9"
      },
      "outputs": [],
      "source": [
        "from surprise import Dataset\n",
        "from surprise import Reader\n",
        "\n",
        "from surprise.model_selection import train_test_split\n",
        "\n",
        "from surprise import KNNWithMeans, accuracy"
      ]
    },
    {
      "cell_type": "code",
      "execution_count": null,
      "metadata": {
        "id": "9nbp_g6ERGE9",
        "outputId": "872c036e-cdf7-491f-b079-804482a08516"
      },
      "outputs": [
        {
          "data": {
            "text/html": [
              "<div>\n",
              "<style scoped>\n",
              "    .dataframe tbody tr th:only-of-type {\n",
              "        vertical-align: middle;\n",
              "    }\n",
              "\n",
              "    .dataframe tbody tr th {\n",
              "        vertical-align: top;\n",
              "    }\n",
              "\n",
              "    .dataframe thead th {\n",
              "        text-align: right;\n",
              "    }\n",
              "</style>\n",
              "<table border=\"1\" class=\"dataframe\">\n",
              "  <thead>\n",
              "    <tr style=\"text-align: right;\">\n",
              "      <th></th>\n",
              "      <th>userId</th>\n",
              "      <th>rating</th>\n",
              "      <th>timestamp</th>\n",
              "      <th>item_id</th>\n",
              "      <th>title</th>\n",
              "    </tr>\n",
              "  </thead>\n",
              "  <tbody>\n",
              "    <tr>\n",
              "      <th>0</th>\n",
              "      <td>1</td>\n",
              "      <td>2.5</td>\n",
              "      <td>1260759144</td>\n",
              "      <td>31</td>\n",
              "      <td>Crimson Tide (1995)</td>\n",
              "    </tr>\n",
              "    <tr>\n",
              "      <th>1</th>\n",
              "      <td>7</td>\n",
              "      <td>3.0</td>\n",
              "      <td>851868750</td>\n",
              "      <td>31</td>\n",
              "      <td>Crimson Tide (1995)</td>\n",
              "    </tr>\n",
              "    <tr>\n",
              "      <th>2</th>\n",
              "      <td>31</td>\n",
              "      <td>4.0</td>\n",
              "      <td>1273541953</td>\n",
              "      <td>31</td>\n",
              "      <td>Crimson Tide (1995)</td>\n",
              "    </tr>\n",
              "    <tr>\n",
              "      <th>3</th>\n",
              "      <td>32</td>\n",
              "      <td>4.0</td>\n",
              "      <td>834828440</td>\n",
              "      <td>31</td>\n",
              "      <td>Crimson Tide (1995)</td>\n",
              "    </tr>\n",
              "    <tr>\n",
              "      <th>4</th>\n",
              "      <td>36</td>\n",
              "      <td>3.0</td>\n",
              "      <td>847057202</td>\n",
              "      <td>31</td>\n",
              "      <td>Crimson Tide (1995)</td>\n",
              "    </tr>\n",
              "  </tbody>\n",
              "</table>\n",
              "</div>"
            ],
            "text/plain": [
              "   userId  rating   timestamp  item_id                title\n",
              "0       1     2.5  1260759144       31  Crimson Tide (1995)\n",
              "1       7     3.0   851868750       31  Crimson Tide (1995)\n",
              "2      31     4.0  1273541953       31  Crimson Tide (1995)\n",
              "3      32     4.0   834828440       31  Crimson Tide (1995)\n",
              "4      36     3.0   847057202       31  Crimson Tide (1995)"
            ]
          },
          "execution_count": 31,
          "metadata": {},
          "output_type": "execute_result"
        }
      ],
      "source": [
        "df = pd.read_csv(\"ratings.csv\")\n",
        "movie_titles = pd.read_csv('movies_titles.csv')\n",
        "df['item_id'] = df['movieId']\n",
        "df = df.drop('movieId', axis = 1)\n",
        "\n",
        "movielens = pd.merge(df, movie_titles, on='item_id')\n",
        "\n",
        "movielens.head(5)"
      ]
    },
    {
      "cell_type": "code",
      "execution_count": null,
      "metadata": {
        "id": "irlpIdhWRGE9"
      },
      "outputs": [],
      "source": [
        "# для работы с библиотекой surprise необходимо подготовить данные\n",
        "\n",
        "# создать объект с мин/макс. оценков\n",
        "reader = Reader(rating_scale=(1, 5))\n",
        "data = Dataset.load_from_df(movielens[['userId', 'item_id', 'rating']], reader)\n",
        "\n",
        "trainset, testset = train_test_split(data, test_size=0.2, random_state=28)"
      ]
    },
    {
      "cell_type": "code",
      "execution_count": null,
      "metadata": {
        "id": "EXgr-JfLRGE9"
      },
      "outputs": [],
      "source": [
        "# используем такую же item-based рекомендацию на основе схожести по косиносному расстоянию\n",
        "sim_options = {\n",
        "    \"name\": \"cosine\",\n",
        "    \"user_based\": False,  # расстояние между предметами, не пользователями\n",
        "}\n",
        "algo = KNNWithMeans(sim_options=sim_options)"
      ]
    },
    {
      "cell_type": "code",
      "execution_count": null,
      "metadata": {
        "id": "7Ojr4RkbRGE9",
        "outputId": "fc7ac392-6c9d-400e-b733-de680af122b5"
      },
      "outputs": [
        {
          "name": "stdout",
          "output_type": "stream",
          "text": [
            "Computing the cosine similarity matrix...\n",
            "Done computing similarity matrix.\n"
          ]
        },
        {
          "data": {
            "text/plain": [
              "<surprise.prediction_algorithms.knns.KNNWithMeans at 0x25d94faad00>"
            ]
          },
          "execution_count": 35,
          "metadata": {},
          "output_type": "execute_result"
        }
      ],
      "source": [
        "# обучение\n",
        "algo.fit(trainset)"
      ]
    },
    {
      "cell_type": "code",
      "execution_count": null,
      "metadata": {
        "id": "1TgAdaffRGE-",
        "outputId": "b826f553-8438-4672-8275-341dcfc7f275"
      },
      "outputs": [
        {
          "data": {
            "text/plain": [
              "Prediction(uid=2718281828, iid=2, r_ui=None, est=3.644603458556947, details={'was_impossible': True, 'reason': 'User and/or item is unknown.'})"
            ]
          },
          "execution_count": 41,
          "metadata": {},
          "output_type": "execute_result"
        }
      ],
      "source": [
        "# приедикт для одного пользователя\n",
        "prediction = algo.predict(2718281828, 2)\n",
        "prediction"
      ]
    },
    {
      "cell_type": "markdown",
      "metadata": {
        "id": "sABOfxjnRGE_"
      },
      "source": [
        "Matrix Factorization\n",
        "--------\n",
        "\n",
        "Более мощное решение задачи. Коллаборативная фильтрация методом матричного разложения. Применяется для user-item рекомендаций.\n",
        "\n",
        "Обучаем методом градиентного спуска и ALS, минимизируя функцию:\n",
        "\n",
        "$$\n",
        "E = \\frac{1}{2} \\sum\\limits_{i}^{N}\\sum\\limits_{j}^{M}I_{i,j}(R_{i,j} - U_{i}^{T}V_{j})^2\n",
        "+ \\frac{\\lambda_U}{2} \\sum\\limits_{i}^{N} \\|{U_i}\\|_{Fro}^2\n",
        "+ \\frac{\\lambda_V}{2} \\sum\\limits_{j}^{M} \\|{V_j}\\|_{Fro}^2\n",
        "$$"
      ]
    },
    {
      "cell_type": "code",
      "execution_count": null,
      "metadata": {
        "id": "r16t2pAcRGE_"
      },
      "outputs": [],
      "source": [
        "# функция ошибки\n",
        "def get_error(user_matrix, item_matrix, actual, lu, li):\n",
        "    error = 0\n",
        "    for u in actual:\n",
        "        for i in actual[u]:\n",
        "            pred = np.dot(user_matrix[u], item_matrix[i])\n",
        "            error += (pred - actual[u][i]) ** 2\n",
        "\n",
        "    error /= 2\n",
        "\n",
        "    u_norm = 0\n",
        "    for u in user_matrix:\n",
        "        for val in user_matrix[u]:\n",
        "            u_norm += val ** 2\n",
        "    i_norm = 0\n",
        "    for i in item_matrix:\n",
        "        for val in item_matrix[i]:\n",
        "            i_norm += val ** 2\n",
        "\n",
        "    error += lu * u_norm / 2\n",
        "    error += li * i_norm / 2\n",
        "\n",
        "    return error\n",
        "\n",
        "\n",
        "#производная U\n",
        "def dE_u(user_matrix, item_matrix, actual, lu, u, index):\n",
        "    derivative = 0\n",
        "    for i in actual[u]:\n",
        "        pred = np.dot(user_matrix[u], item_matrix[i])\n",
        "        derivative += (pred - actual[u][i]) * item_matrix[i][index]\n",
        "\n",
        "    derivative += lu * user_matrix[u][index]\n",
        "\n",
        "    return derivative\n",
        "\n",
        "#производная V\n",
        "def dE_i(user_matrix, item_matrix, actual, li, i, index):\n",
        "    derivative = 0\n",
        "    watched_users = movie_users[i]\n",
        "    for u in watched_users:\n",
        "        pred = np.dot(user_matrix[u], item_matrix[i])\n",
        "        derivative += (pred - actual[u][i]) * user_matrix[u][index]\n",
        "\n",
        "    derivative += li * item_matrix[i][index]\n",
        "\n",
        "    return derivative\n",
        "\n",
        "\n",
        "\n",
        "\n",
        "#ALS\n",
        "def learn(user_matrix, item_matrix, actual, lu, li, learning_rate):\n",
        "    counter = 0\n",
        "    while counter < 10:\n",
        "        error = get_error(user_matrix, item_matrix, actual, lu, li)\n",
        "        print(\"Counter:\", counter, \"Error:\", error) #Error should trend downwards over time\n",
        "\n",
        "        #Используем V константой, обновляем U с градиентом\n",
        "        if counter % 2 == 0:\n",
        "            user_derivatives = {}\n",
        "            for u in user_matrix:\n",
        "                user_derivatives[u] = []\n",
        "\n",
        "                for index in range(len(user_matrix[u])):\n",
        "                    user_derivatives[u].append(dE_u(user_matrix, item_matrix, actual, lu, u, index))\n",
        "\n",
        "            for u in user_matrix:\n",
        "                for index in range(len(user_matrix[u])):\n",
        "                    user_matrix[u][index] -= learning_rate * user_derivatives[u][index]\n",
        "\n",
        "        #Используем U константой, обновляем V с градиентом\n",
        "        else:\n",
        "            item_derivatives = {}\n",
        "            for i in item_matrix:\n",
        "                item_derivatives[i] = []\n",
        "                for index in range(len(item_matrix[i])):\n",
        "                    item_derivatives[i].append(dE_i(user_matrix, item_matrix, actual, li, i, index))\n",
        "\n",
        "            for i in item_matrix:\n",
        "                for index in range(len(item_matrix[i])):\n",
        "                    item_matrix[i][index] -= learning_rate * item_derivatives[i][index]\n",
        "\n",
        "        counter += 1\n",
        "\n",
        "    return (user_matrix, item_matrix)"
      ]
    },
    {
      "cell_type": "code",
      "execution_count": null,
      "metadata": {
        "id": "wOYlpZFFRGE_"
      },
      "outputs": [],
      "source": [
        "user_matrix = {}\n",
        "item_matrix = {}\n",
        "learning_rate = 0.0001\n",
        "lu = 0.0001\n",
        "li = 0.0001\n",
        "K = 5\n",
        "\n",
        "for u in user_movies:\n",
        "    user_matrix[u] = random.sample(range(1, 100), K)\n",
        "    for index in range(K):\n",
        "        user_matrix[u][index] /= float(100)\n",
        "\n",
        "for i in movie_users:\n",
        "    item_matrix[i] = random.sample(range(1, 100), K)\n",
        "    for index in range(K):\n",
        "        item_matrix[i][index] /= float(100)\n",
        "\n",
        "learned_users, learned_items = learn(user_matrix, item_matrix, user_movies, lu, li, learning_rate)"
      ]
    },
    {
      "cell_type": "code",
      "execution_count": null,
      "metadata": {
        "id": "0WS4qUtWRGE_"
      },
      "outputs": [],
      "source": [
        "predicted_ratings = []\n",
        "actuals = []\n",
        "not_count = 0\n",
        "for index, row in test_ratings.iterrows():\n",
        "    if row['movieId'] not in movie_users:\n",
        "        continue\n",
        "\n",
        "    pred = np.dot(learned_users[row['userId']], learned_items[row['movieId']])\n",
        "    predicted_ratings.append(pred)\n",
        "    actuals.append(row['rating'])\n",
        "\n",
        "rmse = math.sqrt(sklearn.metrics.mean_squared_error(predicted_ratings, actuals))\n",
        "print(\"RMSE:\", rmse)"
      ]
    },
    {
      "cell_type": "markdown",
      "metadata": {
        "id": "jUi9hlS0RGE_"
      },
      "source": [
        "## MF - но библиотекой Surprise"
      ]
    },
    {
      "cell_type": "code",
      "execution_count": null,
      "metadata": {
        "id": "5SJg7MEnRGFA"
      },
      "outputs": [],
      "source": [
        "from surprise import SVD, accuracy"
      ]
    },
    {
      "cell_type": "code",
      "execution_count": null,
      "metadata": {
        "id": "GyjD3YYoRGFA"
      },
      "outputs": [],
      "source": [
        "reader = Reader(rating_scale=(1, 5))\n",
        "data = Dataset.load_from_df(movielens[['userId', 'item_id', 'rating']], reader)\n",
        "\n",
        "trainset, testset = train_test_split(data, test_size=0.25)"
      ]
    },
    {
      "cell_type": "code",
      "execution_count": null,
      "metadata": {
        "id": "XfSrL3LDRGFA"
      },
      "outputs": [],
      "source": [
        "algo = SVD()\n",
        "algo.fit(trainset)\n",
        "\n",
        "predictions = algo.test(testset)"
      ]
    },
    {
      "cell_type": "code",
      "execution_count": null,
      "metadata": {
        "id": "elUJIlKZRGFA"
      },
      "outputs": [],
      "source": [
        "accuracy.rmse(predictions)"
      ]
    }
  ],
  "metadata": {
    "kernelspec": {
      "display_name": "Python 3 (ipykernel)",
      "language": "python",
      "name": "python3"
    },
    "language_info": {
      "codemirror_mode": {
        "name": "ipython",
        "version": 3
      },
      "file_extension": ".py",
      "mimetype": "text/x-python",
      "name": "python",
      "nbconvert_exporter": "python",
      "pygments_lexer": "ipython3",
      "version": "3.8.10"
    },
    "colab": {
      "provenance": []
    }
  },
  "nbformat": 4,
  "nbformat_minor": 0
}