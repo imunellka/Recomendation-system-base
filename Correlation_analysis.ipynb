{
  "cells": [
    {
      "cell_type": "markdown",
      "id": "881f07f8-2e75-46c0-94f2-aadd6a0007c3",
      "metadata": {
        "id": "881f07f8-2e75-46c0-94f2-aadd6a0007c3"
      },
      "source": [
        "<hr>\n",
        "\n",
        "### Корреляционный анализ для рек.систем (когда надо сделать просто и быстро)"
      ]
    },
    {
      "cell_type": "code",
      "execution_count": null,
      "id": "ed3c4da0-42d9-4b0a-81f5-212de9de3281",
      "metadata": {
        "id": "ed3c4da0-42d9-4b0a-81f5-212de9de3281",
        "outputId": "d5028f94-1619-4eff-af93-7d7ad884d26a"
      },
      "outputs": [
        {
          "data": {
            "text/html": [
              "<div>\n",
              "<style scoped>\n",
              "    .dataframe tbody tr th:only-of-type {\n",
              "        vertical-align: middle;\n",
              "    }\n",
              "\n",
              "    .dataframe tbody tr th {\n",
              "        vertical-align: top;\n",
              "    }\n",
              "\n",
              "    .dataframe thead th {\n",
              "        text-align: right;\n",
              "    }\n",
              "</style>\n",
              "<table border=\"1\" class=\"dataframe\">\n",
              "  <thead>\n",
              "    <tr style=\"text-align: right;\">\n",
              "      <th></th>\n",
              "      <th>userId</th>\n",
              "      <th>rating</th>\n",
              "      <th>timestamp</th>\n",
              "      <th>item_id</th>\n",
              "      <th>title</th>\n",
              "    </tr>\n",
              "  </thead>\n",
              "  <tbody>\n",
              "    <tr>\n",
              "      <th>0</th>\n",
              "      <td>1</td>\n",
              "      <td>2.5</td>\n",
              "      <td>1260759144</td>\n",
              "      <td>31</td>\n",
              "      <td>Crimson Tide (1995)</td>\n",
              "    </tr>\n",
              "    <tr>\n",
              "      <th>1</th>\n",
              "      <td>7</td>\n",
              "      <td>3.0</td>\n",
              "      <td>851868750</td>\n",
              "      <td>31</td>\n",
              "      <td>Crimson Tide (1995)</td>\n",
              "    </tr>\n",
              "    <tr>\n",
              "      <th>2</th>\n",
              "      <td>31</td>\n",
              "      <td>4.0</td>\n",
              "      <td>1273541953</td>\n",
              "      <td>31</td>\n",
              "      <td>Crimson Tide (1995)</td>\n",
              "    </tr>\n",
              "    <tr>\n",
              "      <th>3</th>\n",
              "      <td>32</td>\n",
              "      <td>4.0</td>\n",
              "      <td>834828440</td>\n",
              "      <td>31</td>\n",
              "      <td>Crimson Tide (1995)</td>\n",
              "    </tr>\n",
              "    <tr>\n",
              "      <th>4</th>\n",
              "      <td>36</td>\n",
              "      <td>3.0</td>\n",
              "      <td>847057202</td>\n",
              "      <td>31</td>\n",
              "      <td>Crimson Tide (1995)</td>\n",
              "    </tr>\n",
              "  </tbody>\n",
              "</table>\n",
              "</div>"
            ],
            "text/plain": [
              "   userId  rating   timestamp  item_id                title\n",
              "0       1     2.5  1260759144       31  Crimson Tide (1995)\n",
              "1       7     3.0   851868750       31  Crimson Tide (1995)\n",
              "2      31     4.0  1273541953       31  Crimson Tide (1995)\n",
              "3      32     4.0   834828440       31  Crimson Tide (1995)\n",
              "4      36     3.0   847057202       31  Crimson Tide (1995)"
            ]
          },
          "execution_count": 13,
          "metadata": {},
          "output_type": "execute_result"
        }
      ],
      "source": [
        "import pandas as pd\n",
        "import numpy as np\n",
        "import random\n",
        "\n",
        "import matplotlib.pyplot as plt\n",
        "\n",
        "\n",
        "df = pd.read_csv(\"ratings.csv\")\n",
        "movie_titles = pd.read_csv('movies_titles.csv')\n",
        "df['item_id'] = df['movieId']\n",
        "df = df.drop('movieId', axis = 1)\n",
        "\n",
        "movielens = pd.merge(df, movie_titles, on='item_id')\n",
        "\n",
        "movielens.head(5)"
      ]
    },
    {
      "cell_type": "code",
      "execution_count": null,
      "id": "0b7617f3-a363-407f-aa3f-06c77804d870",
      "metadata": {
        "id": "0b7617f3-a363-407f-aa3f-06c77804d870",
        "outputId": "f33c6541-d2a0-43df-dae8-cf62c752d7a0"
      },
      "outputs": [
        {
          "data": {
            "text/plain": [
              "title\n",
              "Promise, The (Versprechen, Das) (1994)    5.0\n",
              "Fair Game (1995)                          5.0\n",
              "Pompatus of Love, The (1996)              5.0\n",
              "Love Jones (1997)                         5.0\n",
              "That Thing You Do! (1996)                 5.0\n",
              "Name: rating, dtype: float64"
            ]
          },
          "execution_count": 19,
          "metadata": {},
          "output_type": "execute_result"
        }
      ],
      "source": [
        "# Средний рейтинг фильмов\n",
        "movielens.groupby('title')['rating'].mean().sort_values(ascending=False).head()"
      ]
    },
    {
      "cell_type": "code",
      "execution_count": null,
      "id": "3b8814e1-587b-4cf8-aa4e-f2df8bce9ced",
      "metadata": {
        "id": "3b8814e1-587b-4cf8-aa4e-f2df8bce9ced",
        "outputId": "c7bc9b5e-631f-4779-9a90-7b13c9363035"
      },
      "outputs": [
        {
          "data": {
            "text/plain": [
              "title\n",
              "Client, The (1994)         341\n",
              "Promesse, La (1996)        324\n",
              "Schindler's List (1993)    311\n",
              "Stalingrad (1993)          304\n",
              "Event Horizon (1997)       291\n",
              "Name: rating, dtype: int64"
            ]
          },
          "execution_count": 20,
          "metadata": {},
          "output_type": "execute_result"
        }
      ],
      "source": [
        "# Кол-во рейтингов на фильм\n",
        "movielens.groupby('title')['rating'].count().sort_values(ascending=False).head()"
      ]
    },
    {
      "cell_type": "code",
      "execution_count": null,
      "id": "94e26fa9-38af-4fef-8072-ba8c38542c18",
      "metadata": {
        "id": "94e26fa9-38af-4fef-8072-ba8c38542c18",
        "outputId": "79eaf128-b7ba-40ed-8d31-17d46d688ade"
      },
      "outputs": [
        {
          "data": {
            "text/html": [
              "<div>\n",
              "<style scoped>\n",
              "    .dataframe tbody tr th:only-of-type {\n",
              "        vertical-align: middle;\n",
              "    }\n",
              "\n",
              "    .dataframe tbody tr th {\n",
              "        vertical-align: top;\n",
              "    }\n",
              "\n",
              "    .dataframe thead th {\n",
              "        text-align: right;\n",
              "    }\n",
              "</style>\n",
              "<table border=\"1\" class=\"dataframe\">\n",
              "  <thead>\n",
              "    <tr style=\"text-align: right;\">\n",
              "      <th></th>\n",
              "      <th>rating</th>\n",
              "      <th>num of ratings</th>\n",
              "    </tr>\n",
              "    <tr>\n",
              "      <th>title</th>\n",
              "      <th></th>\n",
              "      <th></th>\n",
              "    </tr>\n",
              "  </thead>\n",
              "  <tbody>\n",
              "    <tr>\n",
              "      <th>'Til There Was You (1997)</th>\n",
              "      <td>4.052632</td>\n",
              "      <td>19</td>\n",
              "    </tr>\n",
              "    <tr>\n",
              "      <th>1-900 (1994)</th>\n",
              "      <td>2.961538</td>\n",
              "      <td>13</td>\n",
              "    </tr>\n",
              "    <tr>\n",
              "      <th>101 Dalmatians (1996)</th>\n",
              "      <td>3.173077</td>\n",
              "      <td>52</td>\n",
              "    </tr>\n",
              "    <tr>\n",
              "      <th>12 Angry Men (1957)</th>\n",
              "      <td>4.700000</td>\n",
              "      <td>5</td>\n",
              "    </tr>\n",
              "    <tr>\n",
              "      <th>187 (1997)</th>\n",
              "      <td>2.700000</td>\n",
              "      <td>10</td>\n",
              "    </tr>\n",
              "  </tbody>\n",
              "</table>\n",
              "</div>"
            ],
            "text/plain": [
              "                             rating  num of ratings\n",
              "title                                              \n",
              "'Til There Was You (1997)  4.052632              19\n",
              "1-900 (1994)               2.961538              13\n",
              "101 Dalmatians (1996)      3.173077              52\n",
              "12 Angry Men (1957)        4.700000               5\n",
              "187 (1997)                 2.700000              10"
            ]
          },
          "execution_count": 21,
          "metadata": {},
          "output_type": "execute_result"
        }
      ],
      "source": [
        "# создадим набор данных с колонками: рейтинг / кол-во рейтингов с данной оценкой\n",
        "ratings = pd.DataFrame(movielens.groupby('title')['rating'].mean())\n",
        "\n",
        "ratings['num of ratings'] = pd.DataFrame(movielens.groupby('title')['rating'].count())\n",
        "\n",
        "ratings.head()"
      ]
    },
    {
      "cell_type": "code",
      "execution_count": null,
      "id": "4d69dd4a-d5c7-468a-bb3d-8a0c76d73988",
      "metadata": {
        "id": "4d69dd4a-d5c7-468a-bb3d-8a0c76d73988",
        "outputId": "79f8a347-6df0-4362-b7b2-63800c7e2ac4"
      },
      "outputs": [
        {
          "data": {
            "text/plain": [
              "<AxesSubplot:title={'center':'Number of ratings'}>"
            ]
          },
          "execution_count": 22,
          "metadata": {},
          "output_type": "execute_result"
        },
        {
          "data": {
            "image/png": "[encoded data removed]",
            "text/plain": [
              "<Figure size 720x288 with 1 Axes>"
            ]
          },
          "metadata": {
            "needs_background": "light"
          },
          "output_type": "display_data"
        }
      ],
      "source": [
        "# визуализация по  кол-ву рейтингов\n",
        "plt.figure(figsize =(10, 4))\n",
        "plt.title(\"Number of ratings\")\n",
        "ratings['num of ratings'].hist(bins = 70)"
      ]
    },
    {
      "cell_type": "code",
      "execution_count": null,
      "id": "c1194fd3-0b1d-4bce-a95c-02fdc50c17b0",
      "metadata": {
        "id": "c1194fd3-0b1d-4bce-a95c-02fdc50c17b0",
        "outputId": "72ead51a-a0c4-4a15-8066-dafb532a8bd5"
      },
      "outputs": [
        {
          "data": {
            "text/plain": [
              "<AxesSubplot:title={'center':'Ratings'}>"
            ]
          },
          "execution_count": 23,
          "metadata": {},
          "output_type": "execute_result"
        },
        {
          "data": {
            "image/png": "[encoded data removed]",
            "text/plain": [
              "<Figure size 720x288 with 1 Axes>"
            ]
          },
          "metadata": {
            "needs_background": "light"
          },
          "output_type": "display_data"
        }
      ],
      "source": [
        "# визуализация по размеру рейтинга\n",
        "plt.figure(figsize =(10, 4))\n",
        "plt.title(\"Ratings\")\n",
        "ratings['rating'].hist(bins = 70)"
      ]
    },
    {
      "cell_type": "code",
      "execution_count": null,
      "id": "7031baab-7cdc-4a8f-bea9-961b610e604d",
      "metadata": {
        "id": "7031baab-7cdc-4a8f-bea9-961b610e604d",
        "outputId": "a34a5894-2d50-4a73-c0d3-67b06fbb3607"
      },
      "outputs": [
        {
          "data": {
            "text/html": [
              "<div>\n",
              "<style scoped>\n",
              "    .dataframe tbody tr th:only-of-type {\n",
              "        vertical-align: middle;\n",
              "    }\n",
              "\n",
              "    .dataframe tbody tr th {\n",
              "        vertical-align: top;\n",
              "    }\n",
              "\n",
              "    .dataframe thead th {\n",
              "        text-align: right;\n",
              "    }\n",
              "</style>\n",
              "<table border=\"1\" class=\"dataframe\">\n",
              "  <thead>\n",
              "    <tr style=\"text-align: right;\">\n",
              "      <th></th>\n",
              "      <th>rating</th>\n",
              "      <th>num of ratings</th>\n",
              "    </tr>\n",
              "    <tr>\n",
              "      <th>title</th>\n",
              "      <th></th>\n",
              "      <th></th>\n",
              "    </tr>\n",
              "  </thead>\n",
              "  <tbody>\n",
              "    <tr>\n",
              "      <th>Client, The (1994)</th>\n",
              "      <td>4.054252</td>\n",
              "      <td>341</td>\n",
              "    </tr>\n",
              "    <tr>\n",
              "      <th>Promesse, La (1996)</th>\n",
              "      <td>4.256173</td>\n",
              "      <td>324</td>\n",
              "    </tr>\n",
              "    <tr>\n",
              "      <th>Schindler's List (1993)</th>\n",
              "      <td>4.487138</td>\n",
              "      <td>311</td>\n",
              "    </tr>\n",
              "    <tr>\n",
              "      <th>Stalingrad (1993)</th>\n",
              "      <td>4.138158</td>\n",
              "      <td>304</td>\n",
              "    </tr>\n",
              "    <tr>\n",
              "      <th>Event Horizon (1997)</th>\n",
              "      <td>4.221649</td>\n",
              "      <td>291</td>\n",
              "    </tr>\n",
              "    <tr>\n",
              "      <th>North by Northwest (1959)</th>\n",
              "      <td>3.706204</td>\n",
              "      <td>274</td>\n",
              "    </tr>\n",
              "    <tr>\n",
              "      <th>Toy Story (1995)</th>\n",
              "      <td>3.872470</td>\n",
              "      <td>247</td>\n",
              "    </tr>\n",
              "    <tr>\n",
              "      <th>Gandhi (1982)</th>\n",
              "      <td>4.303279</td>\n",
              "      <td>244</td>\n",
              "    </tr>\n",
              "    <tr>\n",
              "      <th>Wild Bunch, The (1969)</th>\n",
              "      <td>4.006329</td>\n",
              "      <td>237</td>\n",
              "    </tr>\n",
              "    <tr>\n",
              "      <th>Savage Nights (Nuits fauves, Les) (1992)</th>\n",
              "      <td>4.232906</td>\n",
              "      <td>234</td>\n",
              "    </tr>\n",
              "  </tbody>\n",
              "</table>\n",
              "</div>"
            ],
            "text/plain": [
              "                                            rating  num of ratings\n",
              "title                                                             \n",
              "Client, The (1994)                        4.054252             341\n",
              "Promesse, La (1996)                       4.256173             324\n",
              "Schindler's List (1993)                   4.487138             311\n",
              "Stalingrad (1993)                         4.138158             304\n",
              "Event Horizon (1997)                      4.221649             291\n",
              "North by Northwest (1959)                 3.706204             274\n",
              "Toy Story (1995)                          3.872470             247\n",
              "Gandhi (1982)                             4.303279             244\n",
              "Wild Bunch, The (1969)                    4.006329             237\n",
              "Savage Nights (Nuits fauves, Les) (1992)  4.232906             234"
            ]
          },
          "execution_count": 29,
          "metadata": {},
          "output_type": "execute_result"
        }
      ],
      "source": [
        "# Сортируем по кол-ву рейтингов на фильм\n",
        "moviemat = movielens.pivot_table(index ='userId', columns ='title', values ='rating')\n",
        "ratings.sort_values('num of ratings', ascending = False).head(10)"
      ]
    },
    {
      "cell_type": "code",
      "execution_count": null,
      "id": "e421430a-6d96-4a62-8b31-ca961fa3dc2c",
      "metadata": {
        "id": "e421430a-6d96-4a62-8b31-ca961fa3dc2c",
        "outputId": "994235ba-12f8-484b-c1d9-eb4cd5030ed7"
      },
      "outputs": [
        {
          "name": "stderr",
          "output_type": "stream",
          "text": [
            "C:\\Users\\ArtSe\\AppData\\Local\\Programs\\Python\\Python38\\lib\\site-packages\\numpy\\lib\\function_base.py:2821: RuntimeWarning: Degrees of freedom <= 0 for slice\n",
            "  c = cov(x, y, rowvar, dtype=dtype)\n",
            "C:\\Users\\ArtSe\\AppData\\Local\\Programs\\Python\\Python38\\lib\\site-packages\\numpy\\lib\\function_base.py:2680: RuntimeWarning: divide by zero encountered in true_divide\n",
            "  c *= np.true_divide(1, fact)\n"
          ]
        },
        {
          "data": {
            "text/html": [
              "<div>\n",
              "<style scoped>\n",
              "    .dataframe tbody tr th:only-of-type {\n",
              "        vertical-align: middle;\n",
              "    }\n",
              "\n",
              "    .dataframe tbody tr th {\n",
              "        vertical-align: top;\n",
              "    }\n",
              "\n",
              "    .dataframe thead th {\n",
              "        text-align: right;\n",
              "    }\n",
              "</style>\n",
              "<table border=\"1\" class=\"dataframe\">\n",
              "  <thead>\n",
              "    <tr style=\"text-align: right;\">\n",
              "      <th></th>\n",
              "      <th>Correlation</th>\n",
              "    </tr>\n",
              "    <tr>\n",
              "      <th>title</th>\n",
              "      <th></th>\n",
              "    </tr>\n",
              "  </thead>\n",
              "  <tbody>\n",
              "    <tr>\n",
              "      <th>'Til There Was You (1997)</th>\n",
              "      <td>0.183447</td>\n",
              "    </tr>\n",
              "    <tr>\n",
              "      <th>1-900 (1994)</th>\n",
              "      <td>0.074605</td>\n",
              "    </tr>\n",
              "    <tr>\n",
              "      <th>101 Dalmatians (1996)</th>\n",
              "      <td>0.179888</td>\n",
              "    </tr>\n",
              "    <tr>\n",
              "      <th>187 (1997)</th>\n",
              "      <td>0.842701</td>\n",
              "    </tr>\n",
              "    <tr>\n",
              "      <th>2 Days in the Valley (1996)</th>\n",
              "      <td>-0.500000</td>\n",
              "    </tr>\n",
              "  </tbody>\n",
              "</table>\n",
              "</div>"
            ],
            "text/plain": [
              "                             Correlation\n",
              "title                                   \n",
              "'Til There Was You (1997)       0.183447\n",
              "1-900 (1994)                    0.074605\n",
              "101 Dalmatians (1996)           0.179888\n",
              "187 (1997)                      0.842701\n",
              "2 Days in the Valley (1996)    -0.500000"
            ]
          },
          "execution_count": 38,
          "metadata": {},
          "output_type": "execute_result"
        }
      ],
      "source": [
        "# корреляция между фильмами\n",
        "starwars_user_ratings = moviemat['Star Wars (1977)']\n",
        "# liarliar_user_ratings = moviemat['Liar Liar (1997)']\n",
        "\n",
        "# применим метод расчета корреляции\n",
        "similar_to_starwars = moviemat.corrwith(starwars_user_ratings)\n",
        "# similar_to_liarliar = moviemat.corrwith(liarliar_user_ratings)\n",
        "\n",
        "\n",
        "corr_starwars = pd.DataFrame(similar_to_starwars, columns =['Correlation'])\n",
        "corr_starwars.dropna(inplace = True)\n",
        "\n",
        "corr_starwars.head()"
      ]
    },
    {
      "cell_type": "code",
      "execution_count": null,
      "id": "da1bd9a6-1f11-483f-be42-8649769de637",
      "metadata": {
        "id": "da1bd9a6-1f11-483f-be42-8649769de637",
        "outputId": "9d982024-7e85-4510-a00c-8ccd7612e566"
      },
      "outputs": [
        {
          "data": {
            "text/html": [
              "<div>\n",
              "<style scoped>\n",
              "    .dataframe tbody tr th:only-of-type {\n",
              "        vertical-align: middle;\n",
              "    }\n",
              "\n",
              "    .dataframe tbody tr th {\n",
              "        vertical-align: top;\n",
              "    }\n",
              "\n",
              "    .dataframe thead th {\n",
              "        text-align: right;\n",
              "    }\n",
              "</style>\n",
              "<table border=\"1\" class=\"dataframe\">\n",
              "  <thead>\n",
              "    <tr style=\"text-align: right;\">\n",
              "      <th></th>\n",
              "      <th>Correlation</th>\n",
              "      <th>num of ratings</th>\n",
              "    </tr>\n",
              "    <tr>\n",
              "      <th>title</th>\n",
              "      <th></th>\n",
              "      <th></th>\n",
              "    </tr>\n",
              "  </thead>\n",
              "  <tbody>\n",
              "    <tr>\n",
              "      <th>Star Wars (1977)</th>\n",
              "      <td>1.000000</td>\n",
              "      <td>201</td>\n",
              "    </tr>\n",
              "    <tr>\n",
              "      <th>Mortal Kombat (1995)</th>\n",
              "      <td>0.558721</td>\n",
              "      <td>146</td>\n",
              "    </tr>\n",
              "    <tr>\n",
              "      <th>Savage Nights (Nuits fauves, Les) (1992)</th>\n",
              "      <td>0.392853</td>\n",
              "      <td>234</td>\n",
              "    </tr>\n",
              "    <tr>\n",
              "      <th>Virtuosity (1995)</th>\n",
              "      <td>0.369193</td>\n",
              "      <td>217</td>\n",
              "    </tr>\n",
              "    <tr>\n",
              "      <th>Sling Blade (1996)</th>\n",
              "      <td>0.341309</td>\n",
              "      <td>109</td>\n",
              "    </tr>\n",
              "  </tbody>\n",
              "</table>\n",
              "</div>"
            ],
            "text/plain": [
              "                                          Correlation  num of ratings\n",
              "title                                                                \n",
              "Star Wars (1977)                             1.000000             201\n",
              "Mortal Kombat (1995)                         0.558721             146\n",
              "Savage Nights (Nuits fauves, Les) (1992)     0.392853             234\n",
              "Virtuosity (1995)                            0.369193             217\n",
              "Sling Blade (1996)                           0.341309             109"
            ]
          },
          "execution_count": 39,
          "metadata": {},
          "output_type": "execute_result"
        }
      ],
      "source": [
        "# поиск похожих фильмов на Star Wars (1977)\n",
        "corr_starwars.sort_values('Correlation', ascending = False).head(10)\n",
        "corr_starwars = corr_starwars.join(ratings['num of ratings'])\n",
        "\n",
        "corr_starwars.head()\n",
        "\n",
        "# сделаем отбор популярных\n",
        "corr_starwars[corr_starwars['num of ratings']>100].sort_values('Correlation', ascending = False).head()"
      ]
    }
  ],
  "metadata": {
    "kernelspec": {
      "display_name": "Python 3 (ipykernel)",
      "language": "python",
      "name": "python3"
    },
    "language_info": {
      "codemirror_mode": {
        "name": "ipython",
        "version": 3
      },
      "file_extension": ".py",
      "mimetype": "text/x-python",
      "name": "python",
      "nbconvert_exporter": "python",
      "pygments_lexer": "ipython3",
      "version": "3.8.10"
    },
    "colab": {
      "provenance": []
    }
  },
  "nbformat": 4,
  "nbformat_minor": 5
}