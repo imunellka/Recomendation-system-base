{
  "cells": [
    {
      "cell_type": "code",
      "execution_count": null,
      "id": "f468ea22-e256-4daf-85ce-5c803340e99d",
      "metadata": {
        "id": "f468ea22-e256-4daf-85ce-5c803340e99d"
      },
      "outputs": [],
      "source": [
        "import pandas as pd\n",
        "import numpy as np\n",
        "import sklearn\n",
        "import datetime\n",
        "from sklearn.model_selection import train_test_split\n",
        "import matplotlib.pyplot as plt\n",
        "import seaborn as sns"
      ]
    },
    {
      "cell_type": "code",
      "execution_count": null,
      "id": "a2dc1a01-d789-408e-9b0b-0007f71ad1f8",
      "metadata": {
        "id": "a2dc1a01-d789-408e-9b0b-0007f71ad1f8"
      },
      "outputs": [],
      "source": [
        "# DL библиотекиэ\n",
        "import tensorflow as tf\n",
        "from tensorflow import keras\n",
        "from tensorflow.keras import layers"
      ]
    },
    {
      "cell_type": "code",
      "execution_count": null,
      "id": "ef09423b-59e8-4913-8a89-3fb78daaf287",
      "metadata": {
        "id": "ef09423b-59e8-4913-8a89-3fb78daaf287"
      },
      "outputs": [],
      "source": [
        "from keras.models import Model, Sequential\n",
        "from keras.layers import Embedding, Flatten, Input, Dropout, Dense, BatchNormalization, concatenate, dot\n",
        "from keras.optimizers import Adam\n",
        "from keras.utils import plot_model, model_to_dot\n",
        "from keras.constraints import non_neg\n",
        "from IPython.display import SVG\n",
        "from sklearn.metrics import mean_squared_error\n",
        "import os"
      ]
    },
    {
      "cell_type": "code",
      "execution_count": null,
      "id": "647e2697-e888-453f-b25d-acc4d753bc30",
      "metadata": {
        "id": "647e2697-e888-453f-b25d-acc4d753bc30"
      },
      "outputs": [],
      "source": [
        "np.random.seed(123)"
      ]
    },
    {
      "cell_type": "code",
      "execution_count": null,
      "id": "2cfeb64d-6c5f-42de-812d-d989f72487a2",
      "metadata": {
        "id": "2cfeb64d-6c5f-42de-812d-d989f72487a2"
      },
      "outputs": [],
      "source": [
        "import warnings\n",
        "warnings.filterwarnings('ignore')"
      ]
    },
    {
      "cell_type": "code",
      "execution_count": null,
      "id": "f229539f-0c46-4305-ad21-f2e4c23c05f4",
      "metadata": {
        "id": "f229539f-0c46-4305-ad21-f2e4c23c05f4"
      },
      "outputs": [],
      "source": [
        "# корректировка даты\n",
        "def dateparse (time_in_secs):\n",
        "    return datetime.datetime.fromtimestamp(float(time_in_secs))"
      ]
    },
    {
      "cell_type": "code",
      "execution_count": null,
      "id": "98d82513-10b8-4f18-b9ed-8f370bf008f4",
      "metadata": {
        "id": "98d82513-10b8-4f18-b9ed-8f370bf008f4"
      },
      "outputs": [],
      "source": [
        "# загружаем данные =)\n",
        "rating_dt = pd.read_csv('ratings.csv')\n",
        "movie_dt = pd.read_csv('movies.csv')\n",
        "tag_dt = pd.read_csv('tags.csv', parse_dates=['timestamp'])"
      ]
    },
    {
      "cell_type": "markdown",
      "id": "f4e8b604-8e7e-4b8b-b152-81e5da83c594",
      "metadata": {
        "id": "f4e8b604-8e7e-4b8b-b152-81e5da83c594"
      },
      "source": [
        "### Формируем данные в правильном виде и делаем train-test"
      ]
    },
    {
      "cell_type": "code",
      "execution_count": null,
      "id": "284eed38-5aa9-44e1-a21a-3e7f01ab71ef",
      "metadata": {
        "id": "284eed38-5aa9-44e1-a21a-3e7f01ab71ef"
      },
      "outputs": [],
      "source": [
        "# уникальные пользователи\n",
        "user_ids = rating_dt[\"userId\"].unique().tolist()\n",
        "num_all_user = len(user_ids)"
      ]
    },
    {
      "cell_type": "code",
      "execution_count": null,
      "id": "43239db9-285f-4d68-b67c-e7810daa81f3",
      "metadata": {
        "id": "43239db9-285f-4d68-b67c-e7810daa81f3"
      },
      "outputs": [],
      "source": [
        "# выбор 20% рандомно для сэмпла\n",
        "rand_userid = np.random.choice(user_ids, size = int(num_all_user * 0.1), replace=False)\n",
        "sample_df = rating_dt.loc[rating_dt['userId'].isin(rand_userid)]\n",
        "\n",
        "# userid, movieid энкодинг для индексов\n",
        "user_ids = sample_df['userId'].unique()\n",
        "num_users = len(user_ids)\n",
        "user2user_encoded = {x: i for i, x in enumerate(user_ids)}\n",
        "user_encoded2user = {i: x for i, x in enumerate(user_ids)}\n",
        "sample_df['user_encoded'] = sample_df['userId'].map(user2user_encoded)\n",
        "\n",
        "movie_ids = sample_df['movieId'].unique()\n",
        "num_movies = len(movie_ids)\n",
        "movie2movie_encoded = {x: i for i, x in enumerate(movie_ids)}\n",
        "movie_encoded2movie = {i: x for i, x in enumerate(movie_ids)}\n",
        "sample_df['movie_encoded'] = sample_df['movieId'].map(movie2movie_encoded)\n"
      ]
    },
    {
      "cell_type": "code",
      "execution_count": null,
      "id": "3c88fc7a-2016-418f-9c48-4981d048c34e",
      "metadata": {
        "id": "3c88fc7a-2016-418f-9c48-4981d048c34e"
      },
      "outputs": [],
      "source": [
        "# train-test split\n",
        "train, test = train_test_split(sample_df, test_size = 0.2, random_state=123)\n",
        "\n",
        "num_train_user = len(np.unique(train['user_encoded']))\n",
        "num_train_movie = len(np.unique(train['movie_encoded']))\n",
        "\n",
        "print(f'total movie: {num_movies}',\n",
        "      f'\\nmovie in train: {num_train_movie}',\n",
        "      f'\\nmovie not in train: {num_movies - num_train_movie} ({1 - num_train_movie / num_movies :.2f})',\n",
        "      f'\\n\\ntotal user: {num_users}',\n",
        "      f'\\nuser in train: {num_train_user}',\n",
        "      f'\\nuser not in train: {num_users - num_train_user} ({1 - num_train_user / num_users :.2f})'\n",
        "     )"
      ]
    },
    {
      "cell_type": "markdown",
      "id": "5f17d5b8-7a1d-42f8-ae4c-232281371207",
      "metadata": {
        "id": "5f17d5b8-7a1d-42f8-ae4c-232281371207"
      },
      "source": [
        "### Модель"
      ]
    },
    {
      "cell_type": "code",
      "execution_count": null,
      "id": "b952c676-582d-4eab-92cc-52d8e1306fc7",
      "metadata": {
        "id": "b952c676-582d-4eab-92cc-52d8e1306fc7"
      },
      "outputs": [],
      "source": [
        "def NCF_model(embed_size = 10, drop_out_prob = 0.2):\n",
        "    \"\"\"\n",
        "    Описываем архитектуру модели\n",
        "\n",
        "    Embedding слои\n",
        "    Drop Out слои\n",
        "\n",
        "\n",
        "    \"\"\"\n",
        "    # определить входные данные\n",
        "    movie_input = Input(shape=[1],name='movie-input')\n",
        "    user_input = Input(shape=[1], name='user-input')\n",
        "\n",
        "    # MLP embeddings для пользователей и элементов\n",
        "    movie_embedding_mlp = Embedding(num_movies, embed_size,\n",
        "                                    name='movie-embedding-mlp')(movie_input)\n",
        "    movie_vec_mlp = Flatten(name='flatten-movie-mlp')(movie_embedding_mlp)\n",
        "    movie_vec_mlp = Flatten(name='flatten-movie-mlp')(movie_embedding_mlp)\n",
        "\n",
        "    user_embedding_mlp = Embedding(num_users, embed_size,\n",
        "                                   name='user-embedding-mlp')(user_input)\n",
        "    user_vec_mlp = Flatten(name='flatten-user-mlp')(user_embedding_mlp)\n",
        "\n",
        "    # MF embeddings для пользователей и элементов\n",
        "    movie_embedding_mf = Embedding(num_movies, embed_size,\n",
        "                                   name='movie-embedding-mf')(movie_input)\n",
        "    movie_vec_mf = Flatten(name='flatten-movie-mf')(movie_embedding_mf)\n",
        "\n",
        "    user_embedding_mf = Embedding(num_users, embed_size,\n",
        "                                  name='user-embedding-mf')(user_input)\n",
        "    user_vec_mf = Flatten(name='flatten-user-mf')(user_embedding_mf)\n",
        "\n",
        "    # MLP\n",
        "    concat = concatenate([movie_vec_mlp, user_vec_mlp], axis=-1, name='concat')\n",
        "    concat_dropout = Dropout(drop_out_prob)(concat)\n",
        "\n",
        "    fc_1 = Dense(100, name='fc-1', activation='relu')(concat_dropout)\n",
        "    fc_1_bn = BatchNormalization(name='batch-norm-1')(fc_1)\n",
        "    fc_1_dropout = Dropout(drop_out_prob)(fc_1_bn)\n",
        "\n",
        "    fc_2 = Dense(50, name='fc-2', activation='relu')(fc_1_dropout)\n",
        "    fc_2_bn = BatchNormalization(name='batch-norm-2')(fc_2)\n",
        "    fc_2_dropout = Dropout(drop_out_prob)(fc_2_bn)\n",
        "\n",
        "    # Предикт\n",
        "    pred_mlp = Dense(10, name='pred-mlp', activation='relu')(fc_2_dropout)\n",
        "    pred_mf = dot([movie_vec_mf, user_vec_mf], axes=1, normalize=False)\n",
        "\n",
        "    combine_mlp_mf = concatenate([pred_mf, pred_mlp], axis=-1, name='pred_mf')\n",
        "\n",
        "    # Финализация модели\n",
        "    result = Dense(1, name='result', activation='relu')(combine_mlp_mf)\n",
        "\n",
        "    model = Model([user_input, movie_input], result)\n",
        "    model.compile(optimizer=Adam(lr=0.01), loss='mean_squared_error')\n",
        "\n",
        "    return model"
      ]
    },
    {
      "cell_type": "markdown",
      "id": "6874cebd-6eda-490a-9aa8-cbf2f384c035",
      "metadata": {
        "id": "6874cebd-6eda-490a-9aa8-cbf2f384c035"
      },
      "source": [
        "#### Обзор модели"
      ]
    },
    {
      "cell_type": "code",
      "execution_count": null,
      "id": "e0e2a512-3db4-482a-934a-b8536ba3261a",
      "metadata": {
        "id": "e0e2a512-3db4-482a-934a-b8536ba3261a"
      },
      "outputs": [],
      "source": [
        "model = NCF_model()\n",
        "\n",
        "# визуализируем модель\n",
        "SVG(model_to_dot(model, dpi=50, show_shapes=True).create(prog='dot', format='svg'))"
      ]
    },
    {
      "cell_type": "code",
      "execution_count": null,
      "id": "868ee301-4991-42f2-a59c-9d305b00c5ed",
      "metadata": {
        "id": "868ee301-4991-42f2-a59c-9d305b00c5ed"
      },
      "outputs": [],
      "source": [
        "model.summary()"
      ]
    },
    {
      "cell_type": "code",
      "execution_count": null,
      "id": "34e506f7-680b-4a0b-99e7-a6ef1c40d30a",
      "metadata": {
        "id": "34e506f7-680b-4a0b-99e7-a6ef1c40d30a"
      },
      "outputs": [],
      "source": [
        "# обучение NCF\n",
        "model = NCF_model(embed_size=20)\n",
        "history = model.fit([train['user_encoded'], train['movie_encoded']], train['rating'], epochs=5)\n",
        "\n",
        "pd.Series(history.history['loss']).plot(logy=True)\n",
        "plt.xlabel(\"Epoch\")\n",
        "plt.ylabel(\"Train Error\")\n",
        "plt.show()"
      ]
    },
    {
      "cell_type": "code",
      "execution_count": null,
      "id": "c1552fcd-1a0c-4f97-a2da-853c81a4ca47",
      "metadata": {
        "id": "c1552fcd-1a0c-4f97-a2da-853c81a4ca47"
      },
      "outputs": [],
      "source": [
        "# сохраним для переиспользования\n",
        "model.save('dl_model.h5')\n",
        "\n",
        "# from keras.models import load_model\n",
        "# model = load_model('dl_model.h5')"
      ]
    },
    {
      "cell_type": "code",
      "execution_count": null,
      "id": "8b9ad67e-f244-4e38-a806-41e45b43aef4",
      "metadata": {
        "id": "8b9ad67e-f244-4e38-a806-41e45b43aef4"
      },
      "outputs": [],
      "source": [
        "# сохраним для единого теста\n",
        "# test.to_csv('test_movies.csv')"
      ]
    },
    {
      "cell_type": "code",
      "execution_count": null,
      "id": "6aa1ae18-8b6f-46ca-a2ec-9174bc5af11a",
      "metadata": {
        "id": "6aa1ae18-8b6f-46ca-a2ec-9174bc5af11a"
      },
      "outputs": [],
      "source": [
        "# rmse\n",
        "y_hat = np.round(model.predict([test['user_encoded'], test['movie_encoded']]), decimals=2)\n",
        "y_true = test['rating']\n",
        "print(f'testing rms: {mean_squared_error(y_true, y_hat)}')"
      ]
    },
    {
      "cell_type": "code",
      "execution_count": null,
      "id": "f29b4b5a-f159-4fab-91b1-0212d3a4ef57",
      "metadata": {
        "id": "f29b4b5a-f159-4fab-91b1-0212d3a4ef57"
      },
      "outputs": [],
      "source": [
        "# предикт\n",
        "d = {'prediction': y_hat.tolist(), 'true_value': y_true.values.tolist()}\n",
        "test_pred = pd.DataFrame(d)\n",
        "test_pred.head(5)"
      ]
    },
    {
      "cell_type": "code",
      "execution_count": null,
      "id": "5c609e11-1f0a-486a-8e89-5c33ca3f42a7",
      "metadata": {
        "id": "5c609e11-1f0a-486a-8e89-5c33ca3f42a7"
      },
      "outputs": [],
      "source": [
        "# сделаем расчет Топ - N\n",
        "def NCF_recommendation(rec_model, client_id, top_k = 10):\n",
        "    client_encoded = user2user_encoded[client_id]\n",
        "    movie_watched = sample_df[sample_df['userId'] == client_id]['movieId'].values\n",
        "\n",
        "    movie_poll_encoded = []\n",
        "    for item in movie_ids:\n",
        "        if not np.isin(item, movie_watched):\n",
        "            movie_poll_encoded.append(movie2movie_encoded[item])\n",
        "\n",
        "    d = {'user_encoded': [client_encoded] * len(movie_poll_encoded), 'movie_encoded' : movie_poll_encoded}\n",
        "    client_df = pd.DataFrame(d)\n",
        "\n",
        "    ratings = rec_model.predict([client_df['user_encoded'], client_df['movie_encoded']])\n",
        "\n",
        "    top_ratings_idx = ratings.flatten().argsort()[-top_k:][::-1]\n",
        "    top_ratings = ratings[top_ratings_idx].flatten()\n",
        "    recommend_movieId = [movie_encoded2movie.get(movie_poll_encoded[x]) for x in top_ratings_idx]\n",
        "\n",
        "    top_movie_rec = pd.DataFrame({'movieId': recommend_movieId, 'prediction': top_ratings}).set_index('movieId')\n",
        "    top_movie_rec = top_movie_rec.join(movie_dt.set_index('movieId'))\n",
        "\n",
        "    return top_movie_rec"
      ]
    },
    {
      "cell_type": "code",
      "execution_count": null,
      "id": "78c74c61-ee39-4ea9-b709-ddf9a55334e2",
      "metadata": {
        "id": "78c74c61-ee39-4ea9-b709-ddf9a55334e2"
      },
      "outputs": [],
      "source": [
        "client_id = int(np.random.choice(user_ids, 1))\n",
        "print(f'recommendation for client: {client_id}')\n",
        "NCF_recommendation(model, client_id, top_k=15)"
      ]
    },
    {
      "cell_type": "code",
      "execution_count": null,
      "id": "b3942e04-f560-4b77-b2eb-32a7c21809ae",
      "metadata": {
        "id": "b3942e04-f560-4b77-b2eb-32a7c21809ae"
      },
      "outputs": [],
      "source": []
    }
  ],
  "metadata": {
    "kernelspec": {
      "display_name": "Python 3 (ipykernel)",
      "language": "python",
      "name": "python3"
    },
    "language_info": {
      "codemirror_mode": {
        "name": "ipython",
        "version": 3
      },
      "file_extension": ".py",
      "mimetype": "text/x-python",
      "name": "python",
      "nbconvert_exporter": "python",
      "pygments_lexer": "ipython3",
      "version": "3.8.10"
    },
    "colab": {
      "provenance": []
    }
  },
  "nbformat": 4,
  "nbformat_minor": 5
}