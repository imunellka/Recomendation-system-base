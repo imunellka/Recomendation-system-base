{
  "cells": [
    {
      "cell_type": "markdown",
      "metadata": {
        "id": "XYVhRrRPXBiY"
      },
      "source": [
        "# Item-to-Item"
      ]
    },
    {
      "cell_type": "code",
      "execution_count": null,
      "metadata": {
        "id": "yTY3l_3vXBig"
      },
      "outputs": [],
      "source": [
        "from sklearn.neighbors import NearestNeighbors\n",
        "from sklearn.model_selection import train_test_split as sklearn_train_test_split\n",
        "from sklearn.preprocessing import LabelEncoder\n",
        "from scipy.sparse import csr_matrix\n",
        "\n",
        "import pandas as pd\n",
        "import numpy as np\n",
        "import zipfile\n",
        "\n",
        "import os\n",
        "import sys"
      ]
    },
    {
      "cell_type": "code",
      "execution_count": null,
      "metadata": {
        "id": "JlgU8p3rXBih"
      },
      "outputs": [],
      "source": [
        "import warnings\n",
        "warnings.filterwarnings('ignore')"
      ]
    },
    {
      "cell_type": "code",
      "execution_count": null,
      "metadata": {
        "id": "s87nZYyYXBii"
      },
      "outputs": [],
      "source": [
        "ratings = pd.read_csv('ratings.csv')\n",
        "movies = pd.read_csv('movies.csv')"
      ]
    },
    {
      "cell_type": "markdown",
      "metadata": {
        "id": "9-8KVQCrXBik"
      },
      "source": [
        "### 1. Найдем схожесть между элементами"
      ]
    },
    {
      "cell_type": "markdown",
      "metadata": {
        "id": "J8EsqC1VXBik"
      },
      "source": [
        "1. найдем пользователей, которые оценили один и то же элемент\n",
        "2. нормализуем рейтинги\n",
        "3. рассчитаем косинусное расстояние для нормализованных рейтингов"
      ]
    },
    {
      "cell_type": "code",
      "execution_count": null,
      "metadata": {
        "id": "-q_XYcM8XBil"
      },
      "outputs": [],
      "source": [
        "def normalize():\n",
        "    # средний рейтинг для всех\n",
        "    mean = ratings.groupby(by='userId', as_index=False)['rating'].mean()\n",
        "    norm_ratings = pd.merge(ratings, mean, suffixes=('','_mean'), on='userId')\n",
        "\n",
        "    # нормализуем все рейтинги относительно среднего\n",
        "    norm_ratings['norm_rating'] = norm_ratings['rating'] - norm_ratings['rating_mean']\n",
        "    return mean.to_numpy()[:, 1], norm_ratings"
      ]
    },
    {
      "cell_type": "code",
      "execution_count": null,
      "metadata": {
        "id": "G8r67rczXBim",
        "outputId": "7bac416a-3ab7-43a9-c9ca-2885ad9647d3"
      },
      "outputs": [
        {
          "data": {
            "text/html": [
              "<div>\n",
              "<style scoped>\n",
              "    .dataframe tbody tr th:only-of-type {\n",
              "        vertical-align: middle;\n",
              "    }\n",
              "\n",
              "    .dataframe tbody tr th {\n",
              "        vertical-align: top;\n",
              "    }\n",
              "\n",
              "    .dataframe thead th {\n",
              "        text-align: right;\n",
              "    }\n",
              "</style>\n",
              "<table border=\"1\" class=\"dataframe\">\n",
              "  <thead>\n",
              "    <tr style=\"text-align: right;\">\n",
              "      <th></th>\n",
              "      <th>userId</th>\n",
              "      <th>movieId</th>\n",
              "      <th>rating</th>\n",
              "      <th>timestamp</th>\n",
              "      <th>rating_mean</th>\n",
              "      <th>norm_rating</th>\n",
              "    </tr>\n",
              "  </thead>\n",
              "  <tbody>\n",
              "    <tr>\n",
              "      <th>0</th>\n",
              "      <td>1</td>\n",
              "      <td>31</td>\n",
              "      <td>2.5</td>\n",
              "      <td>1260759144</td>\n",
              "      <td>2.55</td>\n",
              "      <td>-0.05</td>\n",
              "    </tr>\n",
              "    <tr>\n",
              "      <th>1</th>\n",
              "      <td>1</td>\n",
              "      <td>1029</td>\n",
              "      <td>3.0</td>\n",
              "      <td>1260759179</td>\n",
              "      <td>2.55</td>\n",
              "      <td>0.45</td>\n",
              "    </tr>\n",
              "    <tr>\n",
              "      <th>2</th>\n",
              "      <td>1</td>\n",
              "      <td>1061</td>\n",
              "      <td>3.0</td>\n",
              "      <td>1260759182</td>\n",
              "      <td>2.55</td>\n",
              "      <td>0.45</td>\n",
              "    </tr>\n",
              "    <tr>\n",
              "      <th>3</th>\n",
              "      <td>1</td>\n",
              "      <td>1129</td>\n",
              "      <td>2.0</td>\n",
              "      <td>1260759185</td>\n",
              "      <td>2.55</td>\n",
              "      <td>-0.55</td>\n",
              "    </tr>\n",
              "    <tr>\n",
              "      <th>4</th>\n",
              "      <td>1</td>\n",
              "      <td>1172</td>\n",
              "      <td>4.0</td>\n",
              "      <td>1260759205</td>\n",
              "      <td>2.55</td>\n",
              "      <td>1.45</td>\n",
              "    </tr>\n",
              "  </tbody>\n",
              "</table>\n",
              "</div>"
            ],
            "text/plain": [
              "   userId  movieId  rating   timestamp  rating_mean  norm_rating\n",
              "0       1       31     2.5  1260759144         2.55        -0.05\n",
              "1       1     1029     3.0  1260759179         2.55         0.45\n",
              "2       1     1061     3.0  1260759182         2.55         0.45\n",
              "3       1     1129     2.0  1260759185         2.55        -0.55\n",
              "4       1     1172     4.0  1260759205         2.55         1.45"
            ]
          },
          "execution_count": 9,
          "metadata": {},
          "output_type": "execute_result"
        }
      ],
      "source": [
        "mean, norm_ratings = normalize()\n",
        "np_ratings = norm_ratings.to_numpy()\n",
        "norm_ratings.head()"
      ]
    },
    {
      "cell_type": "code",
      "execution_count": null,
      "metadata": {
        "id": "Epp8wac1XBin"
      },
      "outputs": [],
      "source": [
        "# создадим CSR матрицу\n",
        "def item_representation(ratings):\n",
        "    return csr_matrix(\n",
        "        pd.crosstab(ratings.movieId, ratings.userId, ratings.norm_rating, aggfunc=sum).fillna(0).values\n",
        "    )"
      ]
    },
    {
      "cell_type": "code",
      "execution_count": null,
      "metadata": {
        "id": "w7hITXV1XBin"
      },
      "outputs": [],
      "source": [
        "R = item_representation(norm_ratings)"
      ]
    },
    {
      "cell_type": "code",
      "execution_count": null,
      "metadata": {
        "id": "hQgRhCC_XBio"
      },
      "outputs": [],
      "source": [
        "def create_model(rating_matrix, k=21, metric=\"cosine\"):\n",
        "    \"\"\"\n",
        "    - создание модели с базовыми параметрами\n",
        "    \"\"\"\n",
        "    model = NearestNeighbors(metric=metric, n_neighbors=k, algorithm='brute')\n",
        "\n",
        "    model.fit(rating_matrix)\n",
        "    return model"
      ]
    },
    {
      "cell_type": "code",
      "execution_count": null,
      "metadata": {
        "id": "xg9B_lkjXBip"
      },
      "outputs": [],
      "source": [
        "def nearest_neighbors(rating_matrix, model):\n",
        "    \"\"\"\n",
        "    :param rating_matrix : матрица рейтингов (nb_users, nb_items)\n",
        "    :param model : модель knn\n",
        "    \"\"\"\n",
        "    similarities, neighbors = model.kneighbors(rating_matrix)\n",
        "    return similarities[:, 1:], neighbors[:, 1:]"
      ]
    },
    {
      "cell_type": "markdown",
      "metadata": {
        "id": "B08zyBVUXBip"
      },
      "source": [
        "#### Ajusted Cosine Similarity (скорректированое)\n",
        "\n",
        "Работа с элементами, лучше всего заменить обычное косинусное сходство на скорректированое, т.к. пользователи могут завышать или занижать оценки. Каждый ставит оценку по своему \"ощущению\""
      ]
    },
    {
      "cell_type": "markdown",
      "metadata": {
        "id": "pdsaqvT_XBip"
      },
      "source": [
        "\\begin{equation}\n",
        " w_{i,j}= \\frac{\\sum_{u\\in U}(r_{u,i}-\\bar{r}_u)(r_{u,j}-\\bar{r}_u)}{\\sqrt{\\sum_{u\\in U} (r_{u,i}-\\bar{r}_u)^2}\\sqrt{\\sum_{u\\in U} (r_{u,j}-\\bar{r}_u)^2}}.\n",
        "\\end{equation}"
      ]
    },
    {
      "cell_type": "code",
      "execution_count": null,
      "metadata": {
        "id": "xCULIc1XXBip"
      },
      "outputs": [],
      "source": [
        "def save_similarities(similarities, neighbors, dataset_name):\n",
        "    base_dir = 'sims'\n",
        "    save_dir = os.path.join(base_dir, dataset_name)\n",
        "    os.makedirs(save_dir, exist_ok=True)\n",
        "    similarities_file_name = os.path.join(save_dir, 'similarities.npy')\n",
        "    neighbors_file_name = os.path.join(save_dir, 'neighbors.npy')\n",
        "    try:\n",
        "        np.save(similarities_file_name, similarities)\n",
        "        np.save(neighbors_file_name, neighbors)\n",
        "    except ValueError as error:\n",
        "        print(f\"Ошибка во время сохранения : \\n ValueError : {error}\")\n",
        "\n",
        "\n",
        "def load_similarities(dataset_name, k=20):\n",
        "    base_dir = 'sims'\n",
        "    save_dir = os.path.join(base_dir, dataset_name)\n",
        "    similiraties_file = os.path.join(save_dir, 'similarities.npy')\n",
        "    neighbors_file = os.path.join(save_dir, 'neighbors.npy')\n",
        "    similarities = np.load(similiraties_file)\n",
        "    neighbors = np.load(neighbors_file)\n",
        "    return similarities[:,:k], neighbors[:,:k]\n",
        "\n",
        "\n",
        "def cosine(x, y):\n",
        "    return np.dot(x, y) / (np.linalg.norm(x) * np.linalg.norm(y))\n",
        "\n",
        "\n",
        "def adjusted_cosine(np_ratings, nb_items, items, dataset_name):\n",
        "    similarities = np.zeros(shape=(nb_items, nb_items))\n",
        "    similarities.fill(-1)\n",
        "\n",
        "    def _progress(count):\n",
        "        sys.stdout.write('\\rComputing similarities. Progress status : %.1f%%' % (float(count / nb_items)*100.0))\n",
        "        sys.stdout.flush()\n",
        "\n",
        "    for i in items[:-1]:\n",
        "        for j in items[i+1:]:\n",
        "            if i <= 1000 and j <= 1000:\n",
        "\n",
        "                scores = np_ratings[(np_ratings[:, 1] == i) | (np_ratings[:, 1] == j), :]\n",
        "                vals, count = np.unique(scores[:,0], return_counts = True)\n",
        "                scores = scores[np.isin(scores[:,0], vals[count > 1]),:]\n",
        "\n",
        "                if scores.shape[0] > 2:\n",
        "                    x = scores[scores[:, 1].astype('int') == i, 4]\n",
        "                    y = scores[scores[:, 1].astype('int') == j, 4]\n",
        "                    w = cosine(x, y)\n",
        "                    similarities[i, j] = w\n",
        "                    similarities[j, i] = w\n",
        "            else:\n",
        "                pass\n",
        "\n",
        "        _progress(i)\n",
        "    _progress(nb_items)\n",
        "\n",
        "    # получаем и сортируем ближайших соседей\n",
        "    neighbors = np.flip(np.argsort(similarities), axis=1)\n",
        "\n",
        "    # сортируем рейтинги\n",
        "    similarities = np.flip(np.sort(similarities), axis=1)\n",
        "\n",
        "    # сохраняем\n",
        "    save_similarities(similarities, neighbors, dataset_name=dataset_name)\n",
        "\n",
        "    return similarities, neighbors"
      ]
    },
    {
      "cell_type": "code",
      "execution_count": null,
      "metadata": {
        "id": "hU_7EQ2CXBiq",
        "outputId": "0bf50062-dceb-423c-fa19-c469e53a2692"
      },
      "outputs": [
        {
          "name": "stdout",
          "output_type": "stream",
          "text": [
            "Computing similarities. Progress status : 100.0%%%"
          ]
        }
      ],
      "source": [
        "# очень много объектов, нужно сократить размерность\n",
        "\n",
        "nb_items = 1000 #ratinvalue_countsId.nunique()\n",
        "similarities, neighbors = adjusted_cosine(np_ratings, nb_items=nb_items, items = ratings.movieId.unique(), dataset_name='ml')"
      ]
    },
    {
      "cell_type": "markdown",
      "metadata": {
        "id": "5EKWeOJVXBir"
      },
      "source": [
        "### 2. Top N рекомендаций для пользователя"
      ]
    },
    {
      "cell_type": "markdown",
      "metadata": {
        "id": "5EsKsh6NXBir"
      },
      "source": [
        "#### Найдем элементы-кандидаты для рекомендации\n",
        "\n",
        "1. Выбирем элементы, который пользователь уже оценил\n",
        "2. Сделаем расчет сходства по всем элементам\n",
        "3. Исключим уже отмеченные пользователем элементы\n"
      ]
    },
    {
      "cell_type": "code",
      "execution_count": null,
      "metadata": {
        "id": "4kLyWeMLXBir"
      },
      "outputs": [],
      "source": [
        "def candidate_items(userid):\n",
        "    \"\"\"\n",
        "    :param userid : пользователь чей набор рекомендаций собираем\n",
        "    :return : элементы в наборе\n",
        "    \"\"\"\n",
        "\n",
        "    # 1. Выбирем элементы, который пользователь уже оценил\n",
        "    I_u = np_ratings[np_ratings[:, 0] == userid]\n",
        "    I_u = I_u[:, 1].astype('int')\n",
        "\n",
        "    # 2. Сделаем расчет сходства по всем элементам\n",
        "    c = set()\n",
        "\n",
        "    for iid in I_u:\n",
        "        # добавим соседей выбранного элемента\n",
        "        c.update(neighbors[iid])\n",
        "\n",
        "    c = list(c)\n",
        "    # 3. Исключим уже отмеченные пользователем элементы\n",
        "    candidates = np.setdiff1d(c, I_u, assume_unique=True)\n",
        "\n",
        "    return I_u, candidates"
      ]
    },
    {
      "cell_type": "code",
      "execution_count": null,
      "metadata": {
        "id": "PpiHXr2KXBis"
      },
      "outputs": [],
      "source": [
        "i_u, u_candidates = candidate_items(2)"
      ]
    },
    {
      "cell_type": "code",
      "execution_count": null,
      "metadata": {
        "id": "kkUtI378XBis",
        "outputId": "3ccca284-32f2-46ef-b69e-43bda7375f58"
      },
      "outputs": [
        {
          "name": "stdout",
          "output_type": "stream",
          "text": [
            "кол-во элементов по пользователю :  76\n",
            "кол-во возможных рекомендаций для пользователя :  924\n"
          ]
        }
      ],
      "source": [
        "print('кол-во элементов по пользователю : ', len(i_u))\n",
        "print('кол-во возможных рекомендаций для пользователя : ', len(u_candidates))"
      ]
    },
    {
      "cell_type": "code",
      "execution_count": null,
      "metadata": {
        "id": "nWLRyn6hXBis"
      },
      "outputs": [],
      "source": [
        "def similarity_with_Iu(c, I_u):\n",
        "    \"\"\"\n",
        "    функция поиска сходства\n",
        "    \"\"\"\n",
        "    w = 0\n",
        "    for iid in I_u :\n",
        "        # схожесть между элементами (по элементно)\n",
        "        # наш совместный код\n",
        "\n",
        "\n",
        "    return w"
      ]
    },
    {
      "cell_type": "code",
      "execution_count": null,
      "metadata": {
        "id": "IP4NCpKVXBit"
      },
      "outputs": [],
      "source": [
        "def rank_candidates(candidates, I_u):\n",
        "    \"\"\"\n",
        "    расчет рангов и общая сортировка всех элементов\n",
        "    \"\"\"\n",
        "\n",
        "    # из списка элементов вычисляем для каждого схожесть\n",
        "    sims = [similarity_with_Iu(c, I_u) for c in candidates]\n",
        "    mapping = list(zip(candidates, sims))\n",
        "\n",
        "    # сортируем результаты по рейтингу\n",
        "    ranked_candidates = sorted(mapping, key=lambda couple:couple[1], reverse=True)\n",
        "    return ranked_candidates"
      ]
    },
    {
      "cell_type": "markdown",
      "metadata": {
        "id": "uQ9sS_wuXBit"
      },
      "source": [
        "### Топ рекомендаций"
      ]
    },
    {
      "cell_type": "code",
      "execution_count": null,
      "metadata": {
        "id": "qrfx9xL5XBit"
      },
      "outputs": [],
      "source": [
        "def topn_recommendation(userid, N=10):\n",
        "    \"\"\"\n",
        "    функция отбора Топ-N рекомендаций\n",
        "    \"\"\"\n",
        "    # поиск элементов\n",
        "    I_u, candidates = candidate_items(userid)\n",
        "\n",
        "    #  сортировка элементов\n",
        "    ranked_candidates = rank_candidates(candidates, I_u)\n",
        "\n",
        "    # отбор Топ-N\n",
        "    topn = pd.DataFrame(ranked_candidates[:N], columns=['movieId','similarity_with_Iu'])\n",
        "    topn = pd.merge(topn, movies, on='movieId', how='inner')\n",
        "    return topn"
      ]
    },
    {
      "cell_type": "code",
      "execution_count": null,
      "metadata": {
        "id": "aCW-auDPXBit",
        "outputId": "87fb8401-2dd9-445f-c0e6-34c4b8eaaa2c"
      },
      "outputs": [
        {
          "data": {
            "text/html": [
              "<div>\n",
              "<style scoped>\n",
              "    .dataframe tbody tr th:only-of-type {\n",
              "        vertical-align: middle;\n",
              "    }\n",
              "\n",
              "    .dataframe tbody tr th {\n",
              "        vertical-align: top;\n",
              "    }\n",
              "\n",
              "    .dataframe thead th {\n",
              "        text-align: right;\n",
              "    }\n",
              "</style>\n",
              "<table border=\"1\" class=\"dataframe\">\n",
              "  <thead>\n",
              "    <tr style=\"text-align: right;\">\n",
              "      <th></th>\n",
              "      <th>movieId</th>\n",
              "      <th>similarity_with_Iu</th>\n",
              "      <th>title</th>\n",
              "      <th>genres</th>\n",
              "    </tr>\n",
              "  </thead>\n",
              "  <tbody>\n",
              "    <tr>\n",
              "      <th>0</th>\n",
              "      <td>1</td>\n",
              "      <td>76.0</td>\n",
              "      <td>Toy Story (1995)</td>\n",
              "      <td>Adventure|Animation|Children|Comedy|Fantasy</td>\n",
              "    </tr>\n",
              "    <tr>\n",
              "      <th>1</th>\n",
              "      <td>2</td>\n",
              "      <td>76.0</td>\n",
              "      <td>Jumanji (1995)</td>\n",
              "      <td>Adventure|Children|Fantasy</td>\n",
              "    </tr>\n",
              "    <tr>\n",
              "      <th>2</th>\n",
              "      <td>3</td>\n",
              "      <td>76.0</td>\n",
              "      <td>Grumpier Old Men (1995)</td>\n",
              "      <td>Comedy|Romance</td>\n",
              "    </tr>\n",
              "    <tr>\n",
              "      <th>3</th>\n",
              "      <td>5</td>\n",
              "      <td>76.0</td>\n",
              "      <td>Father of the Bride Part II (1995)</td>\n",
              "      <td>Comedy</td>\n",
              "    </tr>\n",
              "    <tr>\n",
              "      <th>4</th>\n",
              "      <td>6</td>\n",
              "      <td>76.0</td>\n",
              "      <td>Heat (1995)</td>\n",
              "      <td>Action|Crime|Thriller</td>\n",
              "    </tr>\n",
              "    <tr>\n",
              "      <th>5</th>\n",
              "      <td>7</td>\n",
              "      <td>76.0</td>\n",
              "      <td>Sabrina (1995)</td>\n",
              "      <td>Comedy|Romance</td>\n",
              "    </tr>\n",
              "    <tr>\n",
              "      <th>6</th>\n",
              "      <td>11</td>\n",
              "      <td>76.0</td>\n",
              "      <td>American President, The (1995)</td>\n",
              "      <td>Comedy|Drama|Romance</td>\n",
              "    </tr>\n",
              "    <tr>\n",
              "      <th>7</th>\n",
              "      <td>16</td>\n",
              "      <td>76.0</td>\n",
              "      <td>Casino (1995)</td>\n",
              "      <td>Crime|Drama</td>\n",
              "    </tr>\n",
              "    <tr>\n",
              "      <th>8</th>\n",
              "      <td>19</td>\n",
              "      <td>76.0</td>\n",
              "      <td>Ace Ventura: When Nature Calls (1995)</td>\n",
              "      <td>Comedy</td>\n",
              "    </tr>\n",
              "    <tr>\n",
              "      <th>9</th>\n",
              "      <td>21</td>\n",
              "      <td>76.0</td>\n",
              "      <td>Get Shorty (1995)</td>\n",
              "      <td>Comedy|Crime|Thriller</td>\n",
              "    </tr>\n",
              "  </tbody>\n",
              "</table>\n",
              "</div>"
            ],
            "text/plain": [
              "   movieId  similarity_with_Iu                                  title  \\\n",
              "0        1                76.0                       Toy Story (1995)   \n",
              "1        2                76.0                         Jumanji (1995)   \n",
              "2        3                76.0                Grumpier Old Men (1995)   \n",
              "3        5                76.0     Father of the Bride Part II (1995)   \n",
              "4        6                76.0                            Heat (1995)   \n",
              "5        7                76.0                         Sabrina (1995)   \n",
              "6       11                76.0         American President, The (1995)   \n",
              "7       16                76.0                          Casino (1995)   \n",
              "8       19                76.0  Ace Ventura: When Nature Calls (1995)   \n",
              "9       21                76.0                      Get Shorty (1995)   \n",
              "\n",
              "                                        genres  \n",
              "0  Adventure|Animation|Children|Comedy|Fantasy  \n",
              "1                   Adventure|Children|Fantasy  \n",
              "2                               Comedy|Romance  \n",
              "3                                       Comedy  \n",
              "4                        Action|Crime|Thriller  \n",
              "5                               Comedy|Romance  \n",
              "6                         Comedy|Drama|Romance  \n",
              "7                                  Crime|Drama  \n",
              "8                                       Comedy  \n",
              "9                        Comedy|Crime|Thriller  "
            ]
          },
          "execution_count": 105,
          "metadata": {},
          "output_type": "execute_result"
        }
      ],
      "source": [
        "topn_recommendation(2)"
      ]
    },
    {
      "cell_type": "markdown",
      "metadata": {
        "id": "qr178SxjXBit"
      },
      "source": [
        "## Top N c предиктом лучших рекомендаций"
      ]
    },
    {
      "cell_type": "markdown",
      "metadata": {
        "id": "o2uODuPmXBiu"
      },
      "source": [
        "### Функция предикта\n",
        "\n",
        "\\begin{equation}\n",
        " \\hat{r}_{u,i}=\\frac{\\sum_{j\\in S^{(i)}}r_{u,j}\\cdot w_{i,j}}{\\sum_{j\\in S^{(i)}}|w_{i,j}|}\n",
        "\\end{equation}"
      ]
    },
    {
      "cell_type": "code",
      "execution_count": null,
      "metadata": {
        "id": "zUklFbTjXBiu"
      },
      "outputs": [],
      "source": [
        "def predict(userid, itemid):\n",
        "    \"\"\"\n",
        "    Создает предикт для пользователя относительно элемента\n",
        "    \"\"\"\n",
        "\n",
        "    # получаем схожесть между кандитатами\n",
        "    item_neighbors = neighbors[itemid]\n",
        "    item_similarities = similarities[itemid]\n",
        "\n",
        "    # получаем рейтинг по пользователю\n",
        "    uratings = np_ratings[np_ratings[:, 0].astype('int') == userid]\n",
        "\n",
        "    # поиск элементов, которые входят в набор элемента на основе которого рекомендуем\n",
        "    simitm = uratings[np.isin(uratings[:, 1], item_neighbors)]\n",
        "    scores = simitm[:, 2]\n",
        "    indexes = [np.where(item_neighbors == iid)[0][0] for iid in simitm[:,1].astype('int')]\n",
        "    sims = item_similarities[indexes]\n",
        "\n",
        "    dot = np.dot(scores, sims)\n",
        "    som = np.sum(np.abs(sims))\n",
        "\n",
        "    if dot == 0 or som == 0:\n",
        "        return mean[userid]\n",
        "\n",
        "    return dot / som"
      ]
    },
    {
      "cell_type": "code",
      "execution_count": null,
      "metadata": {
        "id": "9IaQhYafXBiu"
      },
      "outputs": [],
      "source": [
        "def topn_prediction(userid):\n",
        "    \"\"\"\n",
        "    \"\"\"\n",
        "    # топ рекомендаций для выбранного пользователя\n",
        "    topn = topn_recommendation(userid)\n",
        "\n",
        "    # получаем список элементов\n",
        "    itemids = topn.movieId.to_list()\n",
        "\n",
        "    predictions = []\n",
        "\n",
        "    # предикт по каждому элементу\n",
        "    for itemid in itemids:\n",
        "        r = predict(userid, itemid)\n",
        "\n",
        "        predictions.append((itemid,r))\n",
        "\n",
        "    predictions = pd.DataFrame(predictions, columns=['movieId','prediction'])\n",
        "\n",
        "    # создаем единый и отсортированных набор данных\n",
        "    topn_predict = pd.merge(topn, predictions, on='movieId', how='inner')\n",
        "    topn_predict = topn_predict.sort_values(by=['prediction'], ascending=False)\n",
        "\n",
        "    return topn, topn_predict"
      ]
    },
    {
      "cell_type": "code",
      "execution_count": null,
      "metadata": {
        "id": "sR2AmYZ_XBiv"
      },
      "outputs": [],
      "source": [
        "# получим рекомендации\n",
        "topn, topn_predict = topn_prediction(userid=2)"
      ]
    },
    {
      "cell_type": "code",
      "execution_count": null,
      "metadata": {
        "id": "UR4KyglzXBiv",
        "outputId": "226773b0-ac65-41ec-ea61-a940ebc143fe"
      },
      "outputs": [
        {
          "data": {
            "text/html": [
              "<div>\n",
              "<style scoped>\n",
              "    .dataframe tbody tr th:only-of-type {\n",
              "        vertical-align: middle;\n",
              "    }\n",
              "\n",
              "    .dataframe tbody tr th {\n",
              "        vertical-align: top;\n",
              "    }\n",
              "\n",
              "    .dataframe thead th {\n",
              "        text-align: right;\n",
              "    }\n",
              "</style>\n",
              "<table border=\"1\" class=\"dataframe\">\n",
              "  <thead>\n",
              "    <tr style=\"text-align: right;\">\n",
              "      <th></th>\n",
              "      <th>movieId</th>\n",
              "      <th>similarity_with_Iu</th>\n",
              "      <th>title</th>\n",
              "      <th>genres</th>\n",
              "      <th>prediction</th>\n",
              "    </tr>\n",
              "  </thead>\n",
              "  <tbody>\n",
              "    <tr>\n",
              "      <th>0</th>\n",
              "      <td>1</td>\n",
              "      <td>76.0</td>\n",
              "      <td>Toy Story (1995)</td>\n",
              "      <td>Adventure|Animation|Children|Comedy|Fantasy</td>\n",
              "      <td>3.486842</td>\n",
              "    </tr>\n",
              "    <tr>\n",
              "      <th>1</th>\n",
              "      <td>2</td>\n",
              "      <td>76.0</td>\n",
              "      <td>Jumanji (1995)</td>\n",
              "      <td>Adventure|Children|Fantasy</td>\n",
              "      <td>3.486842</td>\n",
              "    </tr>\n",
              "    <tr>\n",
              "      <th>2</th>\n",
              "      <td>3</td>\n",
              "      <td>76.0</td>\n",
              "      <td>Grumpier Old Men (1995)</td>\n",
              "      <td>Comedy|Romance</td>\n",
              "      <td>3.486842</td>\n",
              "    </tr>\n",
              "    <tr>\n",
              "      <th>3</th>\n",
              "      <td>5</td>\n",
              "      <td>76.0</td>\n",
              "      <td>Father of the Bride Part II (1995)</td>\n",
              "      <td>Comedy</td>\n",
              "      <td>3.486842</td>\n",
              "    </tr>\n",
              "    <tr>\n",
              "      <th>4</th>\n",
              "      <td>6</td>\n",
              "      <td>76.0</td>\n",
              "      <td>Heat (1995)</td>\n",
              "      <td>Action|Crime|Thriller</td>\n",
              "      <td>3.486842</td>\n",
              "    </tr>\n",
              "    <tr>\n",
              "      <th>5</th>\n",
              "      <td>7</td>\n",
              "      <td>76.0</td>\n",
              "      <td>Sabrina (1995)</td>\n",
              "      <td>Comedy|Romance</td>\n",
              "      <td>3.486842</td>\n",
              "    </tr>\n",
              "    <tr>\n",
              "      <th>6</th>\n",
              "      <td>11</td>\n",
              "      <td>76.0</td>\n",
              "      <td>American President, The (1995)</td>\n",
              "      <td>Comedy|Drama|Romance</td>\n",
              "      <td>3.486842</td>\n",
              "    </tr>\n",
              "    <tr>\n",
              "      <th>7</th>\n",
              "      <td>16</td>\n",
              "      <td>76.0</td>\n",
              "      <td>Casino (1995)</td>\n",
              "      <td>Crime|Drama</td>\n",
              "      <td>3.486842</td>\n",
              "    </tr>\n",
              "    <tr>\n",
              "      <th>8</th>\n",
              "      <td>19</td>\n",
              "      <td>76.0</td>\n",
              "      <td>Ace Ventura: When Nature Calls (1995)</td>\n",
              "      <td>Comedy</td>\n",
              "      <td>3.486842</td>\n",
              "    </tr>\n",
              "    <tr>\n",
              "      <th>9</th>\n",
              "      <td>21</td>\n",
              "      <td>76.0</td>\n",
              "      <td>Get Shorty (1995)</td>\n",
              "      <td>Comedy|Crime|Thriller</td>\n",
              "      <td>3.486842</td>\n",
              "    </tr>\n",
              "  </tbody>\n",
              "</table>\n",
              "</div>"
            ],
            "text/plain": [
              "   movieId  similarity_with_Iu                                  title  \\\n",
              "0        1                76.0                       Toy Story (1995)   \n",
              "1        2                76.0                         Jumanji (1995)   \n",
              "2        3                76.0                Grumpier Old Men (1995)   \n",
              "3        5                76.0     Father of the Bride Part II (1995)   \n",
              "4        6                76.0                            Heat (1995)   \n",
              "5        7                76.0                         Sabrina (1995)   \n",
              "6       11                76.0         American President, The (1995)   \n",
              "7       16                76.0                          Casino (1995)   \n",
              "8       19                76.0  Ace Ventura: When Nature Calls (1995)   \n",
              "9       21                76.0                      Get Shorty (1995)   \n",
              "\n",
              "                                        genres  prediction  \n",
              "0  Adventure|Animation|Children|Comedy|Fantasy    3.486842  \n",
              "1                   Adventure|Children|Fantasy    3.486842  \n",
              "2                               Comedy|Romance    3.486842  \n",
              "3                                       Comedy    3.486842  \n",
              "4                        Action|Crime|Thriller    3.486842  \n",
              "5                               Comedy|Romance    3.486842  \n",
              "6                         Comedy|Drama|Romance    3.486842  \n",
              "7                                  Crime|Drama    3.486842  \n",
              "8                                       Comedy    3.486842  \n",
              "9                        Comedy|Crime|Thriller    3.486842  "
            ]
          },
          "execution_count": 109,
          "metadata": {},
          "output_type": "execute_result"
        }
      ],
      "source": [
        "topn_predict"
      ]
    }
  ],
  "metadata": {
    "kernelspec": {
      "display_name": "Python 3 (ipykernel)",
      "language": "python",
      "name": "python3"
    },
    "language_info": {
      "codemirror_mode": {
        "name": "ipython",
        "version": 3
      },
      "file_extension": ".py",
      "mimetype": "text/x-python",
      "name": "python",
      "nbconvert_exporter": "python",
      "pygments_lexer": "ipython3",
      "version": "3.8.10"
    },
    "colab": {
      "provenance": []
    }
  },
  "nbformat": 4,
  "nbformat_minor": 0
}